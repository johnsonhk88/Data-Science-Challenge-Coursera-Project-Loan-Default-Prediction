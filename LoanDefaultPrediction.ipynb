{
 "cells": [
  {
   "attachments": {
    "COUR_IPO.png": {
     "image/png": "[encoded data removed]"
    }
   },
   "cell_type": "markdown",
   "metadata": {},
   "source": [
    "![COUR_IPO.png](attachment:COUR_IPO.png)"
   ]
  },
  {
   "cell_type": "markdown",
   "metadata": {},
   "source": [
    "# Welcome to the Data Science Coding Challange!\n",
    "\n",
    "Test your skills in a real-world coding challenge. Coding Challenges provide CS & DS Coding Competitions with Prizes and achievement badges!\n",
    "\n",
    "CS & DS learners want to be challenged as a way to evaluate if they’re job ready. So, why not create fun challenges and give winners something truly valuable such as complimentary access to select Data Science courses, or the ability to receive an achievement badge on their Coursera Skills Profile - highlighting their performance to recruiters."
   ]
  },
  {
   "cell_type": "markdown",
   "metadata": {},
   "source": [
    "## Introduction\n",
    "\n",
    "In this challenge, you'll get the opportunity to tackle one of the most industry-relevant machine learning problems with a unique dataset that will put your modeling skills to the test. Financial loan services are leveraged by companies across many industries, from big banks to financial institutions to government loans. One of the primary objectives of companies with financial loan services is to decrease payment defaults and ensure that individuals are paying back their loans as expected. In order to do this efficiently and systematically, many companies employ machine learning to predict which individuals are at the highest risk of defaulting on their loans, so that proper interventions can be effectively deployed to the right audience.\n",
    "\n",
    "In this challenge, we will be tackling the loan default prediction problem on a very unique and interesting group of individuals who have taken financial loans. \n",
    "\n",
    "Imagine that you are a new data scientist at a major financial institution and you are tasked with building a model that can predict which individuals will default on their loan payments. We have provided a dataset that is a sample of individuals who received loans in 2021. \n",
    "\n",
    "This financial institution has a vested interest in understanding the likelihood of each individual to default on their loan payments so that resources can be allocated appropriately to support these borrowers. In this challenge, you will use your machine learning toolkit to do just that!"
   ]
  },
  {
   "cell_type": "markdown",
   "metadata": {},
   "source": [
    "## Understanding the Datasets"
   ]
  },
  {
   "cell_type": "markdown",
   "metadata": {},
   "source": [
    "### Train vs. Test\n",
    "In this competition, you’ll gain access to two datasets that are samples of past borrowers of a financial institution that contain information about the individual and the specific loan. One dataset is titled `train.csv` and the other is titled `test.csv`.\n",
    "\n",
    "`train.csv` contains 70% of the overall sample (255,347 borrowers to be exact) and importantly, will reveal whether or not the borrower has defaulted on their loan payments (the “ground truth”).\n",
    "\n",
    "The `test.csv` dataset contains the exact same information about the remaining segment of the overall sample (109,435 borrowers to be exact), but does not disclose the “ground truth” for each borrower. It’s your job to predict this outcome!\n",
    "\n",
    "Using the patterns you find in the `train.csv` data, predict whether the borrowers in `test.csv` will default on their loan payments, or not."
   ]
  },
  {
   "cell_type": "markdown",
   "metadata": {},
   "source": [
    "### Dataset descriptions\n",
    "Both `train.csv` and `test.csv` contain one row for each unique Loan. For each Loan, a single observation (`LoanID`) is included during which the loan was active. \n",
    "\n",
    "In addition to this identifier column, the `train.csv` dataset also contains the target label for the task, a binary column `Default` which indicates if a borrower has defaulted on payments.\n",
    "\n",
    "Besides that column, both datasets have an identical set of features that can be used to train your model to make predictions. Below you can see descriptions of each feature. Familiarize yourself with them so that you can harness them most effectively for this machine learning task!"
   ]
  },
  {
   "cell_type": "code",
   "execution_count": 1,
   "metadata": {},
   "outputs": [
    {
     "data": {
      "text/html": [
       "<div>\n",
       "<style scoped>\n",
       "    .dataframe tbody tr th:only-of-type {\n",
       "        vertical-align: middle;\n",
       "    }\n",
       "\n",
       "    .dataframe tbody tr th {\n",
       "        vertical-align: top;\n",
       "    }\n",
       "\n",
       "    .dataframe thead th {\n",
       "        text-align: right;\n",
       "    }\n",
       "</style>\n",
       "<table border=\"1\" class=\"dataframe\">\n",
       "  <thead>\n",
       "    <tr style=\"text-align: right;\">\n",
       "      <th></th>\n",
       "      <th>Column_name</th>\n",
       "      <th>Column_type</th>\n",
       "      <th>Data_type</th>\n",
       "      <th>Description</th>\n",
       "    </tr>\n",
       "  </thead>\n",
       "  <tbody>\n",
       "    <tr>\n",
       "      <th>0</th>\n",
       "      <td>LoanID</td>\n",
       "      <td>Identifier</td>\n",
       "      <td>string</td>\n",
       "      <td>A unique identifier for each loan.</td>\n",
       "    </tr>\n",
       "    <tr>\n",
       "      <th>1</th>\n",
       "      <td>Age</td>\n",
       "      <td>Feature</td>\n",
       "      <td>integer</td>\n",
       "      <td>The age of the borrower.</td>\n",
       "    </tr>\n",
       "    <tr>\n",
       "      <th>2</th>\n",
       "      <td>Income</td>\n",
       "      <td>Feature</td>\n",
       "      <td>integer</td>\n",
       "      <td>The annual income of the borrower.</td>\n",
       "    </tr>\n",
       "    <tr>\n",
       "      <th>3</th>\n",
       "      <td>LoanAmount</td>\n",
       "      <td>Feature</td>\n",
       "      <td>integer</td>\n",
       "      <td>The amount of money being borrowed.</td>\n",
       "    </tr>\n",
       "    <tr>\n",
       "      <th>4</th>\n",
       "      <td>CreditScore</td>\n",
       "      <td>Feature</td>\n",
       "      <td>integer</td>\n",
       "      <td>The credit score of the borrower, indicating their creditworthiness.</td>\n",
       "    </tr>\n",
       "    <tr>\n",
       "      <th>5</th>\n",
       "      <td>MonthsEmployed</td>\n",
       "      <td>Feature</td>\n",
       "      <td>integer</td>\n",
       "      <td>The number of months the borrower has been employed.</td>\n",
       "    </tr>\n",
       "    <tr>\n",
       "      <th>6</th>\n",
       "      <td>NumCreditLines</td>\n",
       "      <td>Feature</td>\n",
       "      <td>integer</td>\n",
       "      <td>The number of credit lines the borrower has open.</td>\n",
       "    </tr>\n",
       "    <tr>\n",
       "      <th>7</th>\n",
       "      <td>InterestRate</td>\n",
       "      <td>Feature</td>\n",
       "      <td>float</td>\n",
       "      <td>The interest rate for the loan.</td>\n",
       "    </tr>\n",
       "    <tr>\n",
       "      <th>8</th>\n",
       "      <td>LoanTerm</td>\n",
       "      <td>Feature</td>\n",
       "      <td>integer</td>\n",
       "      <td>The term length of the loan in months.</td>\n",
       "    </tr>\n",
       "    <tr>\n",
       "      <th>9</th>\n",
       "      <td>DTIRatio</td>\n",
       "      <td>Feature</td>\n",
       "      <td>float</td>\n",
       "      <td>The Debt-to-Income ratio, indicating the borrower's debt compared to their income.</td>\n",
       "    </tr>\n",
       "    <tr>\n",
       "      <th>10</th>\n",
       "      <td>Education</td>\n",
       "      <td>Feature</td>\n",
       "      <td>string</td>\n",
       "      <td>The highest level of education attained by the borrower (PhD, Master's, Bachelor's, High School).</td>\n",
       "    </tr>\n",
       "    <tr>\n",
       "      <th>11</th>\n",
       "      <td>EmploymentType</td>\n",
       "      <td>Feature</td>\n",
       "      <td>string</td>\n",
       "      <td>The type of employment status of the borrower (Full-time, Part-time, Self-employed, Unemployed).</td>\n",
       "    </tr>\n",
       "    <tr>\n",
       "      <th>12</th>\n",
       "      <td>MaritalStatus</td>\n",
       "      <td>Feature</td>\n",
       "      <td>string</td>\n",
       "      <td>The marital status of the borrower (Single, Married, Divorced).</td>\n",
       "    </tr>\n",
       "    <tr>\n",
       "      <th>13</th>\n",
       "      <td>HasMortgage</td>\n",
       "      <td>Feature</td>\n",
       "      <td>string</td>\n",
       "      <td>Whether the borrower has a mortgage (Yes or No).</td>\n",
       "    </tr>\n",
       "    <tr>\n",
       "      <th>14</th>\n",
       "      <td>HasDependents</td>\n",
       "      <td>Feature</td>\n",
       "      <td>string</td>\n",
       "      <td>Whether the borrower has dependents (Yes or No).</td>\n",
       "    </tr>\n",
       "    <tr>\n",
       "      <th>15</th>\n",
       "      <td>LoanPurpose</td>\n",
       "      <td>Feature</td>\n",
       "      <td>string</td>\n",
       "      <td>The purpose of the loan (Home, Auto, Education, Business, Other).</td>\n",
       "    </tr>\n",
       "    <tr>\n",
       "      <th>16</th>\n",
       "      <td>HasCoSigner</td>\n",
       "      <td>Feature</td>\n",
       "      <td>string</td>\n",
       "      <td>Whether the loan has a co-signer (Yes or No).</td>\n",
       "    </tr>\n",
       "    <tr>\n",
       "      <th>17</th>\n",
       "      <td>Default</td>\n",
       "      <td>Target</td>\n",
       "      <td>integer</td>\n",
       "      <td>The binary target variable indicating whether the loan defaulted (1) or not (0).</td>\n",
       "    </tr>\n",
       "  </tbody>\n",
       "</table>\n",
       "</div>"
      ],
      "text/plain": [
       "       Column_name Column_type Data_type   \n",
       "0           LoanID  Identifier    string  \\\n",
       "1              Age     Feature   integer   \n",
       "2           Income     Feature   integer   \n",
       "3       LoanAmount     Feature   integer   \n",
       "4      CreditScore     Feature   integer   \n",
       "5   MonthsEmployed     Feature   integer   \n",
       "6   NumCreditLines     Feature   integer   \n",
       "7     InterestRate     Feature     float   \n",
       "8         LoanTerm     Feature   integer   \n",
       "9         DTIRatio     Feature     float   \n",
       "10       Education     Feature    string   \n",
       "11  EmploymentType     Feature    string   \n",
       "12   MaritalStatus     Feature    string   \n",
       "13     HasMortgage     Feature    string   \n",
       "14   HasDependents     Feature    string   \n",
       "15     LoanPurpose     Feature    string   \n",
       "16     HasCoSigner     Feature    string   \n",
       "17         Default      Target   integer   \n",
       "\n",
       "                                                                                          Description  \n",
       "0                                                                  A unique identifier for each loan.  \n",
       "1                                                                            The age of the borrower.  \n",
       "2                                                                  The annual income of the borrower.  \n",
       "3                                                                 The amount of money being borrowed.  \n",
       "4                                The credit score of the borrower, indicating their creditworthiness.  \n",
       "5                                                The number of months the borrower has been employed.  \n",
       "6                                                   The number of credit lines the borrower has open.  \n",
       "7                                                                     The interest rate for the loan.  \n",
       "8                                                              The term length of the loan in months.  \n",
       "9                  The Debt-to-Income ratio, indicating the borrower's debt compared to their income.  \n",
       "10  The highest level of education attained by the borrower (PhD, Master's, Bachelor's, High School).  \n",
       "11   The type of employment status of the borrower (Full-time, Part-time, Self-employed, Unemployed).  \n",
       "12                                    The marital status of the borrower (Single, Married, Divorced).  \n",
       "13                                                   Whether the borrower has a mortgage (Yes or No).  \n",
       "14                                                   Whether the borrower has dependents (Yes or No).  \n",
       "15                                  The purpose of the loan (Home, Auto, Education, Business, Other).  \n",
       "16                                                      Whether the loan has a co-signer (Yes or No).  \n",
       "17                   The binary target variable indicating whether the loan defaulted (1) or not (0).  "
      ]
     },
     "execution_count": 1,
     "metadata": {},
     "output_type": "execute_result"
    }
   ],
   "source": [
    "import pandas as pd\n",
    "data_descriptions = pd.read_csv('data_descriptions.csv')\n",
    "pd.set_option('display.max_colwidth', None)\n",
    "data_descriptions"
   ]
  },
  {
   "cell_type": "markdown",
   "metadata": {},
   "source": [
    "## How to Submit your Predictions to Coursera\n",
    "Submission Format:\n",
    "\n",
    "In this notebook you should follow the steps below to explore the data, train a model using the data in `train.csv`, and then score your model using the data in `test.csv`. Your final submission should be a dataframe (call it `prediction_df` with two columns and exactly 109,435 rows (plus a header row). The first column should be `LoanID` so that we know which prediction belongs to which observation. The second column should be called `predicted_probability` and should be a numeric column representing the __likelihood that the borrower will default__.\n",
    "\n",
    "Your submission will show an error if you have extra columns (beyond `LoanID` and `predicted_probability`) or extra rows. The order of the rows does not matter.\n",
    "\n",
    "The naming convention of the dataframe and columns are critical for our autograding, so please make sure to use the exact naming conventions of `prediction_df` with column names `LoanID` and `predicted_probability`!\n",
    "\n",
    "To determine your final score, we will compare your `predicted_probability` predictions to the source of truth labels for the observations in `test.csv` and calculate the [ROC AUC](https://scikit-learn.org/stable/modules/generated/sklearn.metrics.roc_auc_score.html). We choose this metric because we not only want to be able to predict which loans will default, but also want a well-calibrated likelihood score that can be used to target interventions and support most accurately."
   ]
  },
  {
   "cell_type": "markdown",
   "metadata": {},
   "source": [
    "## Import Python Modules\n",
    "\n",
    "First, import the primary modules that will be used in this project. Remember as this is an open-ended project please feel free to make use of any of your favorite libraries that you feel may be useful for this challenge. For example some of the following popular packages may be useful:\n",
    "\n",
    "- pandas\n",
    "- numpy\n",
    "- Scipy\n",
    "- Scikit-learn\n",
    "- keras\n",
    "- maplotlib\n",
    "- seaborn\n",
    "- etc, etc"
   ]
  },
  {
   "cell_type": "code",
   "execution_count": 13,
   "metadata": {},
   "outputs": [],
   "source": [
    "# Import required packages\n",
    "\n",
    "# Data packages\n",
    "import pandas as pd\n",
    "import numpy as np\n",
    "\n",
    "# Machine Learning / Classification packages\n",
    "from sklearn.metrics import roc_auc_score, roc_curve, accuracy_score, confusion_matrix, classification_report\n",
    "from sklearn.model_selection import train_test_split\n",
    "from sklearn.dummy import DummyClassifier\n",
    "\n",
    "# Visualization Packages\n",
    "from matplotlib import pyplot as plt\n",
    "import seaborn as sns\n",
    "%matplotlib inline"
   ]
  },
  {
   "cell_type": "code",
   "execution_count": 14,
   "metadata": {},
   "outputs": [],
   "source": [
    "# Import any other packages you may want to use\n"
   ]
  },
  {
   "cell_type": "markdown",
   "metadata": {},
   "source": [
    "## Load the Data\n",
    "\n",
    "Let's start by loading the dataset `train.csv` into a dataframe `train_df`, and `test.csv` into a dataframe `test_df` and display the shape of the dataframes."
   ]
  },
  {
   "cell_type": "code",
   "execution_count": 15,
   "metadata": {},
   "outputs": [
    {
     "name": "stdout",
     "output_type": "stream",
     "text": [
      "train_df Shape: (255347, 18)\n"
     ]
    },
    {
     "data": {
      "text/html": [
       "<div>\n",
       "<style scoped>\n",
       "    .dataframe tbody tr th:only-of-type {\n",
       "        vertical-align: middle;\n",
       "    }\n",
       "\n",
       "    .dataframe tbody tr th {\n",
       "        vertical-align: top;\n",
       "    }\n",
       "\n",
       "    .dataframe thead th {\n",
       "        text-align: right;\n",
       "    }\n",
       "</style>\n",
       "<table border=\"1\" class=\"dataframe\">\n",
       "  <thead>\n",
       "    <tr style=\"text-align: right;\">\n",
       "      <th></th>\n",
       "      <th>LoanID</th>\n",
       "      <th>Age</th>\n",
       "      <th>Income</th>\n",
       "      <th>LoanAmount</th>\n",
       "      <th>CreditScore</th>\n",
       "      <th>MonthsEmployed</th>\n",
       "      <th>NumCreditLines</th>\n",
       "      <th>InterestRate</th>\n",
       "      <th>LoanTerm</th>\n",
       "      <th>DTIRatio</th>\n",
       "      <th>Education</th>\n",
       "      <th>EmploymentType</th>\n",
       "      <th>MaritalStatus</th>\n",
       "      <th>HasMortgage</th>\n",
       "      <th>HasDependents</th>\n",
       "      <th>LoanPurpose</th>\n",
       "      <th>HasCoSigner</th>\n",
       "      <th>Default</th>\n",
       "    </tr>\n",
       "  </thead>\n",
       "  <tbody>\n",
       "    <tr>\n",
       "      <th>0</th>\n",
       "      <td>I38PQUQS96</td>\n",
       "      <td>56</td>\n",
       "      <td>85994</td>\n",
       "      <td>50587</td>\n",
       "      <td>520</td>\n",
       "      <td>80</td>\n",
       "      <td>4</td>\n",
       "      <td>15.23</td>\n",
       "      <td>36</td>\n",
       "      <td>0.44</td>\n",
       "      <td>Bachelor's</td>\n",
       "      <td>Full-time</td>\n",
       "      <td>Divorced</td>\n",
       "      <td>Yes</td>\n",
       "      <td>Yes</td>\n",
       "      <td>Other</td>\n",
       "      <td>Yes</td>\n",
       "      <td>0</td>\n",
       "    </tr>\n",
       "    <tr>\n",
       "      <th>1</th>\n",
       "      <td>HPSK72WA7R</td>\n",
       "      <td>69</td>\n",
       "      <td>50432</td>\n",
       "      <td>124440</td>\n",
       "      <td>458</td>\n",
       "      <td>15</td>\n",
       "      <td>1</td>\n",
       "      <td>4.81</td>\n",
       "      <td>60</td>\n",
       "      <td>0.68</td>\n",
       "      <td>Master's</td>\n",
       "      <td>Full-time</td>\n",
       "      <td>Married</td>\n",
       "      <td>No</td>\n",
       "      <td>No</td>\n",
       "      <td>Other</td>\n",
       "      <td>Yes</td>\n",
       "      <td>0</td>\n",
       "    </tr>\n",
       "    <tr>\n",
       "      <th>2</th>\n",
       "      <td>C1OZ6DPJ8Y</td>\n",
       "      <td>46</td>\n",
       "      <td>84208</td>\n",
       "      <td>129188</td>\n",
       "      <td>451</td>\n",
       "      <td>26</td>\n",
       "      <td>3</td>\n",
       "      <td>21.17</td>\n",
       "      <td>24</td>\n",
       "      <td>0.31</td>\n",
       "      <td>Master's</td>\n",
       "      <td>Unemployed</td>\n",
       "      <td>Divorced</td>\n",
       "      <td>Yes</td>\n",
       "      <td>Yes</td>\n",
       "      <td>Auto</td>\n",
       "      <td>No</td>\n",
       "      <td>1</td>\n",
       "    </tr>\n",
       "    <tr>\n",
       "      <th>3</th>\n",
       "      <td>V2KKSFM3UN</td>\n",
       "      <td>32</td>\n",
       "      <td>31713</td>\n",
       "      <td>44799</td>\n",
       "      <td>743</td>\n",
       "      <td>0</td>\n",
       "      <td>3</td>\n",
       "      <td>7.07</td>\n",
       "      <td>24</td>\n",
       "      <td>0.23</td>\n",
       "      <td>High School</td>\n",
       "      <td>Full-time</td>\n",
       "      <td>Married</td>\n",
       "      <td>No</td>\n",
       "      <td>No</td>\n",
       "      <td>Business</td>\n",
       "      <td>No</td>\n",
       "      <td>0</td>\n",
       "    </tr>\n",
       "    <tr>\n",
       "      <th>4</th>\n",
       "      <td>EY08JDHTZP</td>\n",
       "      <td>60</td>\n",
       "      <td>20437</td>\n",
       "      <td>9139</td>\n",
       "      <td>633</td>\n",
       "      <td>8</td>\n",
       "      <td>4</td>\n",
       "      <td>6.51</td>\n",
       "      <td>48</td>\n",
       "      <td>0.73</td>\n",
       "      <td>Bachelor's</td>\n",
       "      <td>Unemployed</td>\n",
       "      <td>Divorced</td>\n",
       "      <td>No</td>\n",
       "      <td>Yes</td>\n",
       "      <td>Auto</td>\n",
       "      <td>No</td>\n",
       "      <td>0</td>\n",
       "    </tr>\n",
       "  </tbody>\n",
       "</table>\n",
       "</div>"
      ],
      "text/plain": [
       "       LoanID  Age  Income  LoanAmount  CreditScore  MonthsEmployed   \n",
       "0  I38PQUQS96   56   85994       50587          520              80  \\\n",
       "1  HPSK72WA7R   69   50432      124440          458              15   \n",
       "2  C1OZ6DPJ8Y   46   84208      129188          451              26   \n",
       "3  V2KKSFM3UN   32   31713       44799          743               0   \n",
       "4  EY08JDHTZP   60   20437        9139          633               8   \n",
       "\n",
       "   NumCreditLines  InterestRate  LoanTerm  DTIRatio    Education   \n",
       "0               4         15.23        36      0.44   Bachelor's  \\\n",
       "1               1          4.81        60      0.68     Master's   \n",
       "2               3         21.17        24      0.31     Master's   \n",
       "3               3          7.07        24      0.23  High School   \n",
       "4               4          6.51        48      0.73   Bachelor's   \n",
       "\n",
       "  EmploymentType MaritalStatus HasMortgage HasDependents LoanPurpose   \n",
       "0      Full-time      Divorced         Yes           Yes       Other  \\\n",
       "1      Full-time       Married          No            No       Other   \n",
       "2     Unemployed      Divorced         Yes           Yes        Auto   \n",
       "3      Full-time       Married          No            No    Business   \n",
       "4     Unemployed      Divorced          No           Yes        Auto   \n",
       "\n",
       "  HasCoSigner  Default  \n",
       "0         Yes        0  \n",
       "1         Yes        0  \n",
       "2          No        1  \n",
       "3          No        0  \n",
       "4          No        0  "
      ]
     },
     "execution_count": 15,
     "metadata": {},
     "output_type": "execute_result"
    }
   ],
   "source": [
    "train_df = pd.read_csv(\"train.csv\")\n",
    "print('train_df Shape:', train_df.shape)\n",
    "train_df.head()"
   ]
  },
  {
   "cell_type": "code",
   "execution_count": 16,
   "metadata": {},
   "outputs": [
    {
     "name": "stdout",
     "output_type": "stream",
     "text": [
      "test_df Shape: (109435, 17)\n"
     ]
    },
    {
     "data": {
      "text/html": [
       "<div>\n",
       "<style scoped>\n",
       "    .dataframe tbody tr th:only-of-type {\n",
       "        vertical-align: middle;\n",
       "    }\n",
       "\n",
       "    .dataframe tbody tr th {\n",
       "        vertical-align: top;\n",
       "    }\n",
       "\n",
       "    .dataframe thead th {\n",
       "        text-align: right;\n",
       "    }\n",
       "</style>\n",
       "<table border=\"1\" class=\"dataframe\">\n",
       "  <thead>\n",
       "    <tr style=\"text-align: right;\">\n",
       "      <th></th>\n",
       "      <th>LoanID</th>\n",
       "      <th>Age</th>\n",
       "      <th>Income</th>\n",
       "      <th>LoanAmount</th>\n",
       "      <th>CreditScore</th>\n",
       "      <th>MonthsEmployed</th>\n",
       "      <th>NumCreditLines</th>\n",
       "      <th>InterestRate</th>\n",
       "      <th>LoanTerm</th>\n",
       "      <th>DTIRatio</th>\n",
       "      <th>Education</th>\n",
       "      <th>EmploymentType</th>\n",
       "      <th>MaritalStatus</th>\n",
       "      <th>HasMortgage</th>\n",
       "      <th>HasDependents</th>\n",
       "      <th>LoanPurpose</th>\n",
       "      <th>HasCoSigner</th>\n",
       "    </tr>\n",
       "  </thead>\n",
       "  <tbody>\n",
       "    <tr>\n",
       "      <th>0</th>\n",
       "      <td>7RYZGMKJIR</td>\n",
       "      <td>32</td>\n",
       "      <td>131645</td>\n",
       "      <td>43797</td>\n",
       "      <td>802</td>\n",
       "      <td>23</td>\n",
       "      <td>2</td>\n",
       "      <td>6.10</td>\n",
       "      <td>24</td>\n",
       "      <td>0.13</td>\n",
       "      <td>High School</td>\n",
       "      <td>Full-time</td>\n",
       "      <td>Divorced</td>\n",
       "      <td>Yes</td>\n",
       "      <td>No</td>\n",
       "      <td>Other</td>\n",
       "      <td>No</td>\n",
       "    </tr>\n",
       "    <tr>\n",
       "      <th>1</th>\n",
       "      <td>JDL5RH07AM</td>\n",
       "      <td>61</td>\n",
       "      <td>134312</td>\n",
       "      <td>18402</td>\n",
       "      <td>369</td>\n",
       "      <td>87</td>\n",
       "      <td>2</td>\n",
       "      <td>12.99</td>\n",
       "      <td>60</td>\n",
       "      <td>0.59</td>\n",
       "      <td>High School</td>\n",
       "      <td>Self-employed</td>\n",
       "      <td>Single</td>\n",
       "      <td>No</td>\n",
       "      <td>No</td>\n",
       "      <td>Business</td>\n",
       "      <td>Yes</td>\n",
       "    </tr>\n",
       "    <tr>\n",
       "      <th>2</th>\n",
       "      <td>STAL716Y79</td>\n",
       "      <td>55</td>\n",
       "      <td>115809</td>\n",
       "      <td>151774</td>\n",
       "      <td>563</td>\n",
       "      <td>3</td>\n",
       "      <td>3</td>\n",
       "      <td>5.51</td>\n",
       "      <td>48</td>\n",
       "      <td>0.82</td>\n",
       "      <td>Bachelor's</td>\n",
       "      <td>Full-time</td>\n",
       "      <td>Single</td>\n",
       "      <td>Yes</td>\n",
       "      <td>Yes</td>\n",
       "      <td>Other</td>\n",
       "      <td>Yes</td>\n",
       "    </tr>\n",
       "    <tr>\n",
       "      <th>3</th>\n",
       "      <td>SO0KKJ3IQB</td>\n",
       "      <td>58</td>\n",
       "      <td>94970</td>\n",
       "      <td>55789</td>\n",
       "      <td>337</td>\n",
       "      <td>24</td>\n",
       "      <td>1</td>\n",
       "      <td>23.93</td>\n",
       "      <td>36</td>\n",
       "      <td>0.77</td>\n",
       "      <td>Bachelor's</td>\n",
       "      <td>Unemployed</td>\n",
       "      <td>Divorced</td>\n",
       "      <td>No</td>\n",
       "      <td>No</td>\n",
       "      <td>Business</td>\n",
       "      <td>No</td>\n",
       "    </tr>\n",
       "    <tr>\n",
       "      <th>4</th>\n",
       "      <td>T99CWTYDCP</td>\n",
       "      <td>63</td>\n",
       "      <td>71727</td>\n",
       "      <td>189798</td>\n",
       "      <td>451</td>\n",
       "      <td>52</td>\n",
       "      <td>3</td>\n",
       "      <td>22.05</td>\n",
       "      <td>48</td>\n",
       "      <td>0.44</td>\n",
       "      <td>PhD</td>\n",
       "      <td>Unemployed</td>\n",
       "      <td>Single</td>\n",
       "      <td>Yes</td>\n",
       "      <td>No</td>\n",
       "      <td>Auto</td>\n",
       "      <td>No</td>\n",
       "    </tr>\n",
       "  </tbody>\n",
       "</table>\n",
       "</div>"
      ],
      "text/plain": [
       "       LoanID  Age  Income  LoanAmount  CreditScore  MonthsEmployed   \n",
       "0  7RYZGMKJIR   32  131645       43797          802              23  \\\n",
       "1  JDL5RH07AM   61  134312       18402          369              87   \n",
       "2  STAL716Y79   55  115809      151774          563               3   \n",
       "3  SO0KKJ3IQB   58   94970       55789          337              24   \n",
       "4  T99CWTYDCP   63   71727      189798          451              52   \n",
       "\n",
       "   NumCreditLines  InterestRate  LoanTerm  DTIRatio    Education   \n",
       "0               2          6.10        24      0.13  High School  \\\n",
       "1               2         12.99        60      0.59  High School   \n",
       "2               3          5.51        48      0.82   Bachelor's   \n",
       "3               1         23.93        36      0.77   Bachelor's   \n",
       "4               3         22.05        48      0.44          PhD   \n",
       "\n",
       "  EmploymentType MaritalStatus HasMortgage HasDependents LoanPurpose   \n",
       "0      Full-time      Divorced         Yes            No       Other  \\\n",
       "1  Self-employed        Single          No            No    Business   \n",
       "2      Full-time        Single         Yes           Yes       Other   \n",
       "3     Unemployed      Divorced          No            No    Business   \n",
       "4     Unemployed        Single         Yes            No        Auto   \n",
       "\n",
       "  HasCoSigner  \n",
       "0          No  \n",
       "1         Yes  \n",
       "2         Yes  \n",
       "3          No  \n",
       "4          No  "
      ]
     },
     "execution_count": 16,
     "metadata": {},
     "output_type": "execute_result"
    }
   ],
   "source": [
    "test_df = pd.read_csv(\"test.csv\")\n",
    "print('test_df Shape:', test_df.shape)\n",
    "test_df.head()"
   ]
  },
  {
   "cell_type": "markdown",
   "metadata": {},
   "source": [
    "# EDA Visual the train dataset"
   ]
  },
  {
   "cell_type": "code",
   "execution_count": 17,
   "metadata": {},
   "outputs": [
    {
     "name": "stdout",
     "output_type": "stream",
     "text": [
      "<class 'pandas.core.frame.DataFrame'>\n",
      "RangeIndex: 255347 entries, 0 to 255346\n",
      "Data columns (total 18 columns):\n",
      " #   Column          Non-Null Count   Dtype  \n",
      "---  ------          --------------   -----  \n",
      " 0   LoanID          255347 non-null  object \n",
      " 1   Age             255347 non-null  int64  \n",
      " 2   Income          255347 non-null  int64  \n",
      " 3   LoanAmount      255347 non-null  int64  \n",
      " 4   CreditScore     255347 non-null  int64  \n",
      " 5   MonthsEmployed  255347 non-null  int64  \n",
      " 6   NumCreditLines  255347 non-null  int64  \n",
      " 7   InterestRate    255347 non-null  float64\n",
      " 8   LoanTerm        255347 non-null  int64  \n",
      " 9   DTIRatio        255347 non-null  float64\n",
      " 10  Education       255347 non-null  object \n",
      " 11  EmploymentType  255347 non-null  object \n",
      " 12  MaritalStatus   255347 non-null  object \n",
      " 13  HasMortgage     255347 non-null  object \n",
      " 14  HasDependents   255347 non-null  object \n",
      " 15  LoanPurpose     255347 non-null  object \n",
      " 16  HasCoSigner     255347 non-null  object \n",
      " 17  Default         255347 non-null  int64  \n",
      "dtypes: float64(2), int64(8), object(8)\n",
      "memory usage: 35.1+ MB\n"
     ]
    }
   ],
   "source": [
    "train_df.info()"
   ]
  },
  {
   "cell_type": "code",
   "execution_count": 18,
   "metadata": {},
   "outputs": [
    {
     "data": {
      "text/html": [
       "<div>\n",
       "<style scoped>\n",
       "    .dataframe tbody tr th:only-of-type {\n",
       "        vertical-align: middle;\n",
       "    }\n",
       "\n",
       "    .dataframe tbody tr th {\n",
       "        vertical-align: top;\n",
       "    }\n",
       "\n",
       "    .dataframe thead th {\n",
       "        text-align: right;\n",
       "    }\n",
       "</style>\n",
       "<table border=\"1\" class=\"dataframe\">\n",
       "  <thead>\n",
       "    <tr style=\"text-align: right;\">\n",
       "      <th></th>\n",
       "      <th>Age</th>\n",
       "      <th>Income</th>\n",
       "      <th>LoanAmount</th>\n",
       "      <th>CreditScore</th>\n",
       "      <th>MonthsEmployed</th>\n",
       "      <th>NumCreditLines</th>\n",
       "      <th>InterestRate</th>\n",
       "      <th>LoanTerm</th>\n",
       "      <th>DTIRatio</th>\n",
       "      <th>Education</th>\n",
       "      <th>EmploymentType</th>\n",
       "      <th>MaritalStatus</th>\n",
       "      <th>HasMortgage</th>\n",
       "      <th>HasDependents</th>\n",
       "      <th>LoanPurpose</th>\n",
       "      <th>HasCoSigner</th>\n",
       "      <th>Default</th>\n",
       "    </tr>\n",
       "  </thead>\n",
       "  <tbody>\n",
       "    <tr>\n",
       "      <th>0</th>\n",
       "      <td>56</td>\n",
       "      <td>85994</td>\n",
       "      <td>50587</td>\n",
       "      <td>520</td>\n",
       "      <td>80</td>\n",
       "      <td>4</td>\n",
       "      <td>15.23</td>\n",
       "      <td>36</td>\n",
       "      <td>0.44</td>\n",
       "      <td>Bachelor's</td>\n",
       "      <td>Full-time</td>\n",
       "      <td>Divorced</td>\n",
       "      <td>Yes</td>\n",
       "      <td>Yes</td>\n",
       "      <td>Other</td>\n",
       "      <td>Yes</td>\n",
       "      <td>0</td>\n",
       "    </tr>\n",
       "    <tr>\n",
       "      <th>1</th>\n",
       "      <td>69</td>\n",
       "      <td>50432</td>\n",
       "      <td>124440</td>\n",
       "      <td>458</td>\n",
       "      <td>15</td>\n",
       "      <td>1</td>\n",
       "      <td>4.81</td>\n",
       "      <td>60</td>\n",
       "      <td>0.68</td>\n",
       "      <td>Master's</td>\n",
       "      <td>Full-time</td>\n",
       "      <td>Married</td>\n",
       "      <td>No</td>\n",
       "      <td>No</td>\n",
       "      <td>Other</td>\n",
       "      <td>Yes</td>\n",
       "      <td>0</td>\n",
       "    </tr>\n",
       "    <tr>\n",
       "      <th>2</th>\n",
       "      <td>46</td>\n",
       "      <td>84208</td>\n",
       "      <td>129188</td>\n",
       "      <td>451</td>\n",
       "      <td>26</td>\n",
       "      <td>3</td>\n",
       "      <td>21.17</td>\n",
       "      <td>24</td>\n",
       "      <td>0.31</td>\n",
       "      <td>Master's</td>\n",
       "      <td>Unemployed</td>\n",
       "      <td>Divorced</td>\n",
       "      <td>Yes</td>\n",
       "      <td>Yes</td>\n",
       "      <td>Auto</td>\n",
       "      <td>No</td>\n",
       "      <td>1</td>\n",
       "    </tr>\n",
       "    <tr>\n",
       "      <th>3</th>\n",
       "      <td>32</td>\n",
       "      <td>31713</td>\n",
       "      <td>44799</td>\n",
       "      <td>743</td>\n",
       "      <td>0</td>\n",
       "      <td>3</td>\n",
       "      <td>7.07</td>\n",
       "      <td>24</td>\n",
       "      <td>0.23</td>\n",
       "      <td>High School</td>\n",
       "      <td>Full-time</td>\n",
       "      <td>Married</td>\n",
       "      <td>No</td>\n",
       "      <td>No</td>\n",
       "      <td>Business</td>\n",
       "      <td>No</td>\n",
       "      <td>0</td>\n",
       "    </tr>\n",
       "    <tr>\n",
       "      <th>4</th>\n",
       "      <td>60</td>\n",
       "      <td>20437</td>\n",
       "      <td>9139</td>\n",
       "      <td>633</td>\n",
       "      <td>8</td>\n",
       "      <td>4</td>\n",
       "      <td>6.51</td>\n",
       "      <td>48</td>\n",
       "      <td>0.73</td>\n",
       "      <td>Bachelor's</td>\n",
       "      <td>Unemployed</td>\n",
       "      <td>Divorced</td>\n",
       "      <td>No</td>\n",
       "      <td>Yes</td>\n",
       "      <td>Auto</td>\n",
       "      <td>No</td>\n",
       "      <td>0</td>\n",
       "    </tr>\n",
       "  </tbody>\n",
       "</table>\n",
       "</div>"
      ],
      "text/plain": [
       "   Age  Income  LoanAmount  CreditScore  MonthsEmployed  NumCreditLines   \n",
       "0   56   85994       50587          520              80               4  \\\n",
       "1   69   50432      124440          458              15               1   \n",
       "2   46   84208      129188          451              26               3   \n",
       "3   32   31713       44799          743               0               3   \n",
       "4   60   20437        9139          633               8               4   \n",
       "\n",
       "   InterestRate  LoanTerm  DTIRatio    Education EmploymentType MaritalStatus   \n",
       "0         15.23        36      0.44   Bachelor's      Full-time      Divorced  \\\n",
       "1          4.81        60      0.68     Master's      Full-time       Married   \n",
       "2         21.17        24      0.31     Master's     Unemployed      Divorced   \n",
       "3          7.07        24      0.23  High School      Full-time       Married   \n",
       "4          6.51        48      0.73   Bachelor's     Unemployed      Divorced   \n",
       "\n",
       "  HasMortgage HasDependents LoanPurpose HasCoSigner  Default  \n",
       "0         Yes           Yes       Other         Yes        0  \n",
       "1          No            No       Other         Yes        0  \n",
       "2         Yes           Yes        Auto          No        1  \n",
       "3          No            No    Business          No        0  \n",
       "4          No           Yes        Auto          No        0  "
      ]
     },
     "execution_count": 18,
     "metadata": {},
     "output_type": "execute_result"
    }
   ],
   "source": [
    "train_df.drop(\"LoanID\", inplace=True, axis=1) # drop LoanID , not useful for training ML model\n",
    "train_df.head()"
   ]
  },
  {
   "cell_type": "code",
   "execution_count": 27,
   "metadata": {},
   "outputs": [
    {
     "data": {
      "text/plain": [
       "Age               0\n",
       "Income            0\n",
       "LoanAmount        0\n",
       "CreditScore       0\n",
       "MonthsEmployed    0\n",
       "NumCreditLines    0\n",
       "InterestRate      0\n",
       "LoanTerm          0\n",
       "DTIRatio          0\n",
       "Education         0\n",
       "EmploymentType    0\n",
       "MaritalStatus     0\n",
       "HasMortgage       0\n",
       "HasDependents     0\n",
       "LoanPurpose       0\n",
       "HasCoSigner       0\n",
       "Default           0\n",
       "dtype: int64"
      ]
     },
     "execution_count": 27,
     "metadata": {},
     "output_type": "execute_result"
    }
   ],
   "source": [
    "train_df.isna().sum() # check for missing values"
   ]
  },
  {
   "cell_type": "markdown",
   "metadata": {},
   "source": [
    "### Select default is 1 or 0 for analysis"
   ]
  },
  {
   "cell_type": "code",
   "execution_count": 20,
   "metadata": {},
   "outputs": [],
   "source": [
    "yesDefault = train_df[train_df[\"Default\"] == 1]\n",
    "noDefault = train_df[train_df[\"Default\"] == 0]"
   ]
  },
  {
   "cell_type": "code",
   "execution_count": 25,
   "metadata": {},
   "outputs": [
    {
     "data": {
      "image/png": "[encoded data removed]",
      "text/plain": [
       "<Figure size 640x480 with 1 Axes>"
      ]
     },
     "metadata": {},
     "output_type": "display_data"
    }
   ],
   "source": [
    "# seem the data is extremely imbalanced\n",
    "train_df[\"Default\"].value_counts().plot(kind=\"bar\", \n",
    "                                        color=[\"salmon\", \"lightblue\"], title=\"Loan Default Distribution\", \n",
    "                                        xlabel=\"0 = No Default, 1 = Default\",\n",
    "                                        ylabel=\"Count\");"
   ]
  },
  {
   "cell_type": "code",
   "execution_count": 51,
   "metadata": {},
   "outputs": [
    {
     "data": {
      "image/png": "[encoded data removed]",
      "text/plain": [
       "<Figure size 600x400 with 1 Axes>"
      ]
     },
     "metadata": {},
     "output_type": "display_data"
    }
   ],
   "source": [
    "plt.figure(figsize=(6, 4))\n",
    "plt.hist([noDefault[\"Age\"], yesDefault[\"Age\"]], bins=20, alpha=0.5, color=[\"red\", \"green\"])\n",
    "plt.xlabel(\"Age\")\n",
    "plt.ylabel(\"Count\")\n",
    "plt.legend([\"No Default\", \"Default\"])\n",
    "plt.title(\"Age Distribution\");\n"
   ]
  },
  {
   "cell_type": "code",
   "execution_count": 53,
   "metadata": {},
   "outputs": [
    {
     "data": {
      "image/png": "[encoded data removed]",
      "text/plain": [
       "<Figure size 600x400 with 1 Axes>"
      ]
     },
     "metadata": {},
     "output_type": "display_data"
    }
   ],
   "source": [
    "# Lower income more loan default cases\n",
    "plt.figure(figsize=(6, 4))\n",
    "plt.hist([noDefault[\"Income\"], yesDefault[\"Income\"]], bins=20, alpha=0.5, color=[\"red\", \"green\"])\n",
    "plt.xlabel(\"Income\")\n",
    "plt.ylabel(\"Count\")\n",
    "plt.legend([\"No Default\", \"Default\"])\n",
    "plt.title(\"Income Distribution\");\n"
   ]
  },
  {
   "cell_type": "code",
   "execution_count": 55,
   "metadata": {},
   "outputs": [
    {
     "data": {
      "image/png": "[encoded data removed]",
      "text/plain": [
       "<Figure size 600x400 with 1 Axes>"
      ]
     },
     "metadata": {},
     "output_type": "display_data"
    }
   ],
   "source": [
    "# Loan Amount large more loan default cases\n",
    "plt.figure(figsize=(6, 4))\n",
    "plt.hist([noDefault[\"LoanAmount\"], yesDefault[\"LoanAmount\"]], bins=20, alpha=0.5, color=[\"red\", \"green\"])\n",
    "plt.xlabel(\"Loan Amount\")\n",
    "plt.ylabel(\"Count\")\n",
    "plt.legend([\"No Default\", \"Default\"])\n",
    "plt.title(\"Loan Amount Distribution\");"
   ]
  },
  {
   "cell_type": "code",
   "execution_count": 56,
   "metadata": {},
   "outputs": [
    {
     "data": {
      "image/png": "[encoded data removed]",
      "text/plain": [
       "<Figure size 600x400 with 1 Axes>"
      ]
     },
     "metadata": {},
     "output_type": "display_data"
    }
   ],
   "source": [
    "\n",
    "plt.figure(figsize=(6, 4))\n",
    "plt.hist([noDefault[\"CreditScore\"], yesDefault[\"CreditScore\"]], bins=20, alpha=0.5, color=[\"red\", \"green\"])\n",
    "plt.xlabel(\"Credit Score\")\n",
    "plt.ylabel(\"Count\")\n",
    "plt.legend([\"No Default\", \"Default\"])\n",
    "plt.title(\"Credit Score Distribution\");"
   ]
  },
  {
   "cell_type": "code",
   "execution_count": 57,
   "metadata": {},
   "outputs": [
    {
     "data": {
      "image/png": "[encoded data removed]",
      "text/plain": [
       "<Figure size 600x400 with 1 Axes>"
      ]
     },
     "metadata": {},
     "output_type": "display_data"
    }
   ],
   "source": [
    "\n",
    "plt.figure(figsize=(6, 4))\n",
    "plt.hist([noDefault[\"MonthsEmployed\"], yesDefault[\"MonthsEmployed\"]], bins=20, alpha=0.5, color=[\"red\", \"green\"])\n",
    "plt.xlabel(\"Months Employed\")\n",
    "plt.ylabel(\"Count\")\n",
    "plt.legend([\"No Default\", \"Default\"])\n",
    "plt.title(\"Months Employed Distribution\");"
   ]
  },
  {
   "cell_type": "code",
   "execution_count": 37,
   "metadata": {},
   "outputs": [],
   "source": [
    "def printColumnValue(df, showAll=True):\n",
    "    for column in df.columns:\n",
    "        if showAll:\n",
    "            print(f\"{column}: {df[column].unique()}\")\n",
    "        else:\n",
    "            if df[column].dtype == \"object\": # only show object type columns unique values\n",
    "                print(f\"{column}: {df[column].unique()}\")"
   ]
  },
  {
   "cell_type": "code",
   "execution_count": 39,
   "metadata": {},
   "outputs": [
    {
     "name": "stdout",
     "output_type": "stream",
     "text": [
      "Age: [56 69 46 32 60 25 38 36 40 28 41 53 57 20 39 19 61 47 55 50 29 42 66 44\n",
      " 59 45 33 64 68 54 24 26 35 21 31 67 43 37 52 34 23 51 27 48 65 62 58 18\n",
      " 22 30 49 63]\n",
      "Income: [ 85994  50432  84208 ... 104108  76558 124446]\n",
      "LoanAmount: [ 50587 124440 129188 ... 105905 168231 208294]\n",
      "CreditScore: [520 458 451 743 633 720 429 531 827 480 652 375 829 395 635 432 313 811\n",
      " 319 376 419 583 528 468 839 343 514 462 580 604 551 840 787 607 669 506\n",
      " 540 695 707 386 747 400 639 795 498 560 505 393 369 439 634 657 417 455\n",
      " 351 655 737 771 775 680 694 534 529 416 318 411 802 305 674 585 750 303\n",
      " 487 730 579 658 683 574 421 719 692 542 453 618 659 371 517 701 361 578\n",
      " 656 553 734 346 584 481 447 691 457 616 564 315 436 533 372 394 834 339\n",
      " 415 668 748 715 479 696 751 842 769 577 602 497 714 396 513 522 335 601\n",
      " 499 380 640 566 627 786 524 449 489 401 666 818 841 406 508 749 620 536\n",
      " 592 541 316 609 705 424 770 407 611 398 739 777 763 826 726 310 815 797\n",
      " 317 626 708 334 434 381 552 347 413 338 760 740 721 672 464 494 470 624\n",
      " 366 831 337 671 610 308 742 716 383 550 645 433 663 367 650 596 593 466\n",
      " 478 412 571 809 849 629 788 399 643 332 475 382 352 328 469 614 342 642\n",
      " 678 806 477 595 304 312 476 754 530 324 546 518 461 816 641 823 698 402\n",
      " 718 648 559 586 331 644 435 677 569 773 598 444 745 422 341 379 589 364\n",
      " 681 423 808 728 662 490 473 812 832 374 653 676 309 814 465 535 617 679\n",
      " 711 493 774 670 761 782 646 360 456 732 789 344 405 837 723 370 690 521\n",
      " 495 414 325 320 555 307 794 848 427 675 630 420 776 501 459 687 824 425\n",
      " 350 684 348 563 700 706 628 779 781 793 741 557 752 452 582 301 673 532\n",
      " 409 590 576 766 778 636 733 549 450 765 688 397 472 594 441 599 558 780\n",
      " 483 622 835 486 384 638 507 807 783 792 686 843 758 471 608 833 762 445\n",
      " 710 387 709 503 363 820 326 613 519 785 330 817 661 537 727 440 623 496\n",
      " 612 619 485 664 467 340 631 615 431 757 587 504 804 523 333 418 368 300\n",
      " 488 460 703 403 448 830 805 753 796 581 314 699 729 697 365 845 474 713\n",
      " 819 736 373 844 567 391 544 838 482 651 357 502 767 738 510 704 836 647\n",
      " 428 539 603 591 756 717 570 810 527 565 660 573 682 385 390 438 525 764\n",
      " 356 511 548 442 702 654 822 327 512 597 509 426 556 772 722 825 725 828\n",
      " 454 744 649 790 801 665 345 689 561 463 821 606 404 600 791 547 799 354\n",
      " 377 667 685 359 322 323 329 575 437 735 526 746 336 800 491 803 353 484\n",
      " 545 306 572 605 378 554 543 392 430 500 847 321 755 621 588 846 538 408\n",
      " 349 492 516 759 798 693 632 302 724 568 362 712 625 355 784 358 813 446\n",
      " 562 768 311 637 443 389 388 515 410 731]\n",
      "MonthsEmployed: [ 80  15  26   0   8  18  67  83 114  94  56  87 112  31  49 106 119  65\n",
      "  96  55  48  73 110  58  62  16  57  37   6 103  39  51  24 105  47 117\n",
      "  32  99  84  72  88  27  36  33  59  20  54  76  66  11  23  22  93  35\n",
      "  50  69  70 111  63   9   1  44  25  71 101  53  45  91  52  74  86   4\n",
      "  10  82   7  79  85  12  17  28  68 100  60 115  43  14  13 104  95 118\n",
      " 113  97 108  40  77 109  34  41  92  46   2   3  78 116  89  75  81   5\n",
      "  90 107  98  21  64  29  30  19  38  61  42 102]\n",
      "NumCreditLines: [4 1 3 2]\n",
      "InterestRate: [15.23  4.81 21.17 ...  2.46 19.81  9.01]\n",
      "LoanTerm: [36 60 24 48 12]\n",
      "DTIRatio: [0.44 0.68 0.31 0.23 0.73 0.1  0.16 0.43 0.2  0.33 0.8  0.45 0.89 0.28\n",
      " 0.66 0.17 0.39 0.65 0.38 0.47 0.22 0.5  0.19 0.12 0.82 0.78 0.86 0.69\n",
      " 0.75 0.53 0.4  0.48 0.56 0.3  0.42 0.81 0.58 0.32 0.76 0.59 0.74 0.25\n",
      " 0.37 0.51 0.24 0.15 0.36 0.41 0.71 0.49 0.6  0.72 0.57 0.87 0.62 0.18\n",
      " 0.64 0.83 0.11 0.7  0.35 0.88 0.79 0.84 0.52 0.61 0.14 0.54 0.9  0.67\n",
      " 0.26 0.29 0.34 0.77 0.55 0.13 0.63 0.46 0.21 0.85 0.27]\n",
      "Education: [\"Bachelor's\" \"Master's\" 'High School' 'PhD']\n",
      "EmploymentType: ['Full-time' 'Unemployed' 'Self-employed' 'Part-time']\n",
      "MaritalStatus: ['Divorced' 'Married' 'Single']\n",
      "HasMortgage: ['Yes' 'No']\n",
      "HasDependents: ['Yes' 'No']\n",
      "LoanPurpose: ['Other' 'Auto' 'Business' 'Home' 'Education']\n",
      "HasCoSigner: ['Yes' 'No']\n",
      "Default: [0 1]\n"
     ]
    }
   ],
   "source": [
    "printColumnValue(train_df , showAll=True)"
   ]
  },
  {
   "cell_type": "code",
   "execution_count": 67,
   "metadata": {},
   "outputs": [
    {
     "data": {
      "text/plain": [
       "Age                 int64\n",
       "Income              int64\n",
       "LoanAmount          int64\n",
       "CreditScore         int64\n",
       "MonthsEmployed      int64\n",
       "NumCreditLines      int64\n",
       "InterestRate      float64\n",
       "LoanTerm            int64\n",
       "DTIRatio          float64\n",
       "Education          object\n",
       "EmploymentType     object\n",
       "MaritalStatus      object\n",
       "HasMortgage        object\n",
       "HasDependents      object\n",
       "LoanPurpose        object\n",
       "HasCoSigner        object\n",
       "Default             int64\n",
       "dtype: object"
      ]
     },
     "execution_count": 67,
     "metadata": {},
     "output_type": "execute_result"
    }
   ],
   "source": [
    "train_df.dtypes"
   ]
  },
  {
   "cell_type": "markdown",
   "metadata": {},
   "source": [
    "## Explore, Clean, Validate, and Visualize the Data (optional)\n",
    "\n",
    "Feel free to explore, clean, validate, and visualize the data however you see fit for this competition to help determine or optimize your predictive model. Please note - the final autograding will only be on the accuracy of the `prediction_df` predictions."
   ]
  },
  {
   "cell_type": "markdown",
   "metadata": {},
   "source": [
    "## Clean Data\n",
    "#### Convert yes or no unique values to 1 or 0 , convert non numeric column into One Hot Encoding "
   ]
  },
  {
   "cell_type": "code",
   "execution_count": 68,
   "metadata": {},
   "outputs": [],
   "source": [
    "# define yes and no for convert to binary columns\n",
    "yesNoColumns = [\"HasMortgage\",\"HasDependents\", \"HasCoSigner\"]\n",
    "# define several columns for  convert one hot encoding\n",
    "columnsForOneHotEncoding = [\"Education\", \"EmploymentType\", \"MaritalStatus\", \"LoanPurpose\"]\n",
    "# define the columns to be scaled\n",
    "columnsToScale = [\"Age\",\"Income\", \"LoanAmount\", \"CreditScore\", \"MonthsEmployed\", \n",
    "                  \"NumCreditLines\", \"InterestRate\", \"LoanTerm\" , \"DTIRatio\"]\n"
   ]
  },
  {
   "cell_type": "code",
   "execution_count": 70,
   "metadata": {},
   "outputs": [],
   "source": [
    "from sklearn.preprocessing import MinMaxScaler, StandardScaler\n",
    "def preprocessData(df, scale=True):\n",
    "    # Convert Yes and No to 1 and 0\n",
    "    for column in yesNoColumns:\n",
    "        df[column] = df[column].apply(lambda x: 1 if x == \"Yes\" else 0)\n",
    "    \n",
    "    # Convert to one hot encoding\n",
    "    df = pd.get_dummies(df, columns=columnsForOneHotEncoding, dtype=int)\n",
    "    \n",
    "    if scale:\n",
    "        # Scale the columns\n",
    "        scaler = MinMaxScaler() # StandardScaler() \n",
    "        df[columnsToScale] = scaler.fit_transform(df[columnsToScale])\n",
    "    \n",
    "    return df"
   ]
  },
  {
   "cell_type": "code",
   "execution_count": 71,
   "metadata": {},
   "outputs": [
    {
     "data": {
      "text/html": [
       "<div>\n",
       "<style scoped>\n",
       "    .dataframe tbody tr th:only-of-type {\n",
       "        vertical-align: middle;\n",
       "    }\n",
       "\n",
       "    .dataframe tbody tr th {\n",
       "        vertical-align: top;\n",
       "    }\n",
       "\n",
       "    .dataframe thead th {\n",
       "        text-align: right;\n",
       "    }\n",
       "</style>\n",
       "<table border=\"1\" class=\"dataframe\">\n",
       "  <thead>\n",
       "    <tr style=\"text-align: right;\">\n",
       "      <th></th>\n",
       "      <th>Age</th>\n",
       "      <th>Income</th>\n",
       "      <th>LoanAmount</th>\n",
       "      <th>CreditScore</th>\n",
       "      <th>MonthsEmployed</th>\n",
       "      <th>NumCreditLines</th>\n",
       "      <th>InterestRate</th>\n",
       "      <th>LoanTerm</th>\n",
       "      <th>DTIRatio</th>\n",
       "      <th>HasMortgage</th>\n",
       "      <th>...</th>\n",
       "      <th>EmploymentType_Self-employed</th>\n",
       "      <th>EmploymentType_Unemployed</th>\n",
       "      <th>MaritalStatus_Divorced</th>\n",
       "      <th>MaritalStatus_Married</th>\n",
       "      <th>MaritalStatus_Single</th>\n",
       "      <th>LoanPurpose_Auto</th>\n",
       "      <th>LoanPurpose_Business</th>\n",
       "      <th>LoanPurpose_Education</th>\n",
       "      <th>LoanPurpose_Home</th>\n",
       "      <th>LoanPurpose_Other</th>\n",
       "    </tr>\n",
       "  </thead>\n",
       "  <tbody>\n",
       "    <tr>\n",
       "      <th>0</th>\n",
       "      <td>0.745098</td>\n",
       "      <td>0.525885</td>\n",
       "      <td>0.186070</td>\n",
       "      <td>0.400729</td>\n",
       "      <td>0.672269</td>\n",
       "      <td>1.000000</td>\n",
       "      <td>0.575217</td>\n",
       "      <td>0.50</td>\n",
       "      <td>0.4250</td>\n",
       "      <td>1</td>\n",
       "      <td>...</td>\n",
       "      <td>0</td>\n",
       "      <td>0</td>\n",
       "      <td>1</td>\n",
       "      <td>0</td>\n",
       "      <td>0</td>\n",
       "      <td>0</td>\n",
       "      <td>0</td>\n",
       "      <td>0</td>\n",
       "      <td>0</td>\n",
       "      <td>1</td>\n",
       "    </tr>\n",
       "    <tr>\n",
       "      <th>1</th>\n",
       "      <td>1.000000</td>\n",
       "      <td>0.262461</td>\n",
       "      <td>0.487512</td>\n",
       "      <td>0.287796</td>\n",
       "      <td>0.126050</td>\n",
       "      <td>0.000000</td>\n",
       "      <td>0.122174</td>\n",
       "      <td>1.00</td>\n",
       "      <td>0.7250</td>\n",
       "      <td>0</td>\n",
       "      <td>...</td>\n",
       "      <td>0</td>\n",
       "      <td>0</td>\n",
       "      <td>0</td>\n",
       "      <td>1</td>\n",
       "      <td>0</td>\n",
       "      <td>0</td>\n",
       "      <td>0</td>\n",
       "      <td>0</td>\n",
       "      <td>0</td>\n",
       "      <td>1</td>\n",
       "    </tr>\n",
       "    <tr>\n",
       "      <th>2</th>\n",
       "      <td>0.549020</td>\n",
       "      <td>0.512656</td>\n",
       "      <td>0.506892</td>\n",
       "      <td>0.275046</td>\n",
       "      <td>0.218487</td>\n",
       "      <td>0.666667</td>\n",
       "      <td>0.833478</td>\n",
       "      <td>0.25</td>\n",
       "      <td>0.2625</td>\n",
       "      <td>1</td>\n",
       "      <td>...</td>\n",
       "      <td>0</td>\n",
       "      <td>1</td>\n",
       "      <td>1</td>\n",
       "      <td>0</td>\n",
       "      <td>0</td>\n",
       "      <td>1</td>\n",
       "      <td>0</td>\n",
       "      <td>0</td>\n",
       "      <td>0</td>\n",
       "      <td>0</td>\n",
       "    </tr>\n",
       "    <tr>\n",
       "      <th>3</th>\n",
       "      <td>0.274510</td>\n",
       "      <td>0.123801</td>\n",
       "      <td>0.162446</td>\n",
       "      <td>0.806922</td>\n",
       "      <td>0.000000</td>\n",
       "      <td>0.666667</td>\n",
       "      <td>0.220435</td>\n",
       "      <td>0.25</td>\n",
       "      <td>0.1625</td>\n",
       "      <td>0</td>\n",
       "      <td>...</td>\n",
       "      <td>0</td>\n",
       "      <td>0</td>\n",
       "      <td>0</td>\n",
       "      <td>1</td>\n",
       "      <td>0</td>\n",
       "      <td>0</td>\n",
       "      <td>1</td>\n",
       "      <td>0</td>\n",
       "      <td>0</td>\n",
       "      <td>0</td>\n",
       "    </tr>\n",
       "    <tr>\n",
       "      <th>4</th>\n",
       "      <td>0.823529</td>\n",
       "      <td>0.040274</td>\n",
       "      <td>0.016894</td>\n",
       "      <td>0.606557</td>\n",
       "      <td>0.067227</td>\n",
       "      <td>1.000000</td>\n",
       "      <td>0.196087</td>\n",
       "      <td>0.75</td>\n",
       "      <td>0.7875</td>\n",
       "      <td>0</td>\n",
       "      <td>...</td>\n",
       "      <td>0</td>\n",
       "      <td>1</td>\n",
       "      <td>1</td>\n",
       "      <td>0</td>\n",
       "      <td>0</td>\n",
       "      <td>1</td>\n",
       "      <td>0</td>\n",
       "      <td>0</td>\n",
       "      <td>0</td>\n",
       "      <td>0</td>\n",
       "    </tr>\n",
       "  </tbody>\n",
       "</table>\n",
       "<p>5 rows × 29 columns</p>\n",
       "</div>"
      ],
      "text/plain": [
       "        Age    Income  LoanAmount  CreditScore  MonthsEmployed   \n",
       "0  0.745098  0.525885    0.186070     0.400729        0.672269  \\\n",
       "1  1.000000  0.262461    0.487512     0.287796        0.126050   \n",
       "2  0.549020  0.512656    0.506892     0.275046        0.218487   \n",
       "3  0.274510  0.123801    0.162446     0.806922        0.000000   \n",
       "4  0.823529  0.040274    0.016894     0.606557        0.067227   \n",
       "\n",
       "   NumCreditLines  InterestRate  LoanTerm  DTIRatio  HasMortgage  ...   \n",
       "0        1.000000      0.575217      0.50    0.4250            1  ...  \\\n",
       "1        0.000000      0.122174      1.00    0.7250            0  ...   \n",
       "2        0.666667      0.833478      0.25    0.2625            1  ...   \n",
       "3        0.666667      0.220435      0.25    0.1625            0  ...   \n",
       "4        1.000000      0.196087      0.75    0.7875            0  ...   \n",
       "\n",
       "   EmploymentType_Self-employed  EmploymentType_Unemployed   \n",
       "0                             0                          0  \\\n",
       "1                             0                          0   \n",
       "2                             0                          1   \n",
       "3                             0                          0   \n",
       "4                             0                          1   \n",
       "\n",
       "   MaritalStatus_Divorced  MaritalStatus_Married  MaritalStatus_Single   \n",
       "0                       1                      0                     0  \\\n",
       "1                       0                      1                     0   \n",
       "2                       1                      0                     0   \n",
       "3                       0                      1                     0   \n",
       "4                       1                      0                     0   \n",
       "\n",
       "   LoanPurpose_Auto  LoanPurpose_Business  LoanPurpose_Education   \n",
       "0                 0                     0                      0  \\\n",
       "1                 0                     0                      0   \n",
       "2                 1                     0                      0   \n",
       "3                 0                     1                      0   \n",
       "4                 1                     0                      0   \n",
       "\n",
       "   LoanPurpose_Home  LoanPurpose_Other  \n",
       "0                 0                  1  \n",
       "1                 0                  1  \n",
       "2                 0                  0  \n",
       "3                 0                  0  \n",
       "4                 0                  0  \n",
       "\n",
       "[5 rows x 29 columns]"
      ]
     },
     "execution_count": 71,
     "metadata": {},
     "output_type": "execute_result"
    }
   ],
   "source": [
    "train_df = preprocessData(train_df)\n",
    "train_df.head()"
   ]
  },
  {
   "cell_type": "code",
   "execution_count": 74,
   "metadata": {},
   "outputs": [
    {
     "name": "stdout",
     "output_type": "stream",
     "text": [
      "Age: [0.74509804 1.         0.54901961 0.2745098  0.82352941 0.1372549\n",
      " 0.39215686 0.35294118 0.43137255 0.19607843 0.45098039 0.68627451\n",
      " 0.76470588 0.03921569 0.41176471 0.01960784 0.84313725 0.56862745\n",
      " 0.7254902  0.62745098 0.21568627 0.47058824 0.94117647 0.50980392\n",
      " 0.80392157 0.52941176 0.29411765 0.90196078 0.98039216 0.70588235\n",
      " 0.11764706 0.15686275 0.33333333 0.05882353 0.25490196 0.96078431\n",
      " 0.49019608 0.37254902 0.66666667 0.31372549 0.09803922 0.64705882\n",
      " 0.17647059 0.58823529 0.92156863 0.8627451  0.78431373 0.\n",
      " 0.07843137 0.23529412 0.60784314 0.88235294]\n",
      "Income: [0.52588538 0.2624612  0.51265565 ... 0.66006415 0.45598856 0.81071712]\n",
      "LoanAmount: [0.18607015 0.48751219 0.50689186 ... 0.41185882 0.6662517  0.82977482]\n",
      "CreditScore: [0.4007286  0.28779599 0.27504554 0.80692168 0.60655738 0.76502732\n",
      " 0.23497268 0.42076503 0.95992714 0.32786885 0.64116576 0.13661202\n",
      " 0.96357013 0.17304189 0.61020036 0.24043716 0.02367942 0.93078324\n",
      " 0.03460838 0.13843352 0.21675774 0.5154827  0.41530055 0.30601093\n",
      " 0.98178506 0.07832423 0.38979964 0.29508197 0.51001821 0.55373406\n",
      " 0.4571949  0.98360656 0.8870674  0.55919854 0.67213115 0.37522769\n",
      " 0.43715847 0.71948998 0.74134791 0.15664845 0.81420765 0.18214936\n",
      " 0.61748634 0.90163934 0.36065574 0.47358834 0.37340619 0.16939891\n",
      " 0.12568306 0.25318761 0.60837887 0.65027322 0.21311475 0.28233151\n",
      " 0.09289617 0.64663024 0.79599271 0.8579235  0.86520947 0.69216758\n",
      " 0.71766849 0.42622951 0.41712204 0.21129326 0.03278689 0.20218579\n",
      " 0.9143898  0.00910747 0.68123862 0.51912568 0.81967213 0.00546448\n",
      " 0.34061931 0.78324226 0.50819672 0.65209472 0.69763206 0.49908925\n",
      " 0.22040073 0.76320583 0.7140255  0.44080146 0.27868852 0.57923497\n",
      " 0.65391621 0.12932605 0.39526412 0.73041894 0.11111111 0.50637523\n",
      " 0.64845173 0.46083789 0.79052823 0.08378871 0.51730419 0.32969035\n",
      " 0.26775956 0.71220401 0.2859745  0.57559199 0.48087432 0.0273224\n",
      " 0.24772313 0.42440801 0.13114754 0.1712204  0.9726776  0.07103825\n",
      " 0.20947177 0.67030965 0.81602914 0.75591985 0.32604736 0.72131148\n",
      " 0.82149362 0.98724954 0.85428051 0.50455373 0.55009107 0.35883424\n",
      " 0.75409836 0.17486339 0.38797814 0.40437158 0.06375228 0.54826958\n",
      " 0.36247723 0.14571949 0.61930783 0.4845173  0.59562842 0.8852459\n",
      " 0.40801457 0.27140255 0.3442623  0.18397086 0.66666667 0.9435337\n",
      " 0.98542805 0.19307832 0.37887067 0.81785064 0.58287796 0.4298725\n",
      " 0.53187614 0.43897996 0.0291439  0.56284153 0.73770492 0.22586521\n",
      " 0.856102   0.19489982 0.56648452 0.17850638 0.7996357  0.86885246\n",
      " 0.84335155 0.95810565 0.77595628 0.01821494 0.93806922 0.90528233\n",
      " 0.03096539 0.59380692 0.7431694  0.06193078 0.24408015 0.14754098\n",
      " 0.45901639 0.0856102  0.20582878 0.06921676 0.83788707 0.80145719\n",
      " 0.76684882 0.67759563 0.29872495 0.35336976 0.30965392 0.59016393\n",
      " 0.12021858 0.96721311 0.06739526 0.67577413 0.56466302 0.01457195\n",
      " 0.80510018 0.75774135 0.15118397 0.45537341 0.6284153  0.24225865\n",
      " 0.66120219 0.12204007 0.63752277 0.53916211 0.53369763 0.30236794\n",
      " 0.32422587 0.20400729 0.49362477 0.92714026 1.         0.5992714\n",
      " 0.88888889 0.18032787 0.62477231 0.0582878  0.31876138 0.14936248\n",
      " 0.09471767 0.05100182 0.30783242 0.571949   0.07650273 0.62295082\n",
      " 0.68852459 0.92167577 0.32240437 0.53734062 0.00728597 0.02185792\n",
      " 0.32058288 0.82695811 0.41894353 0.04371585 0.44808743 0.39708561\n",
      " 0.29326047 0.93989071 0.62112933 0.95264117 0.72495446 0.18579235\n",
      " 0.76138434 0.63387978 0.47176685 0.52094718 0.0564663  0.62659381\n",
      " 0.24590164 0.6867031  0.48998179 0.86156648 0.5428051  0.26229508\n",
      " 0.81056466 0.22222222 0.07468124 0.143898   0.52641166 0.11657559\n",
      " 0.69398907 0.22404372 0.92531876 0.77959927 0.65938069 0.34608379\n",
      " 0.3151184  0.93260474 0.96903461 0.13479053 0.64298725 0.6848816\n",
      " 0.01639344 0.93624772 0.30054645 0.428051   0.57741348 0.69034608\n",
      " 0.74863388 0.35154827 0.86338798 0.67395264 0.83970856 0.87795993\n",
      " 0.63023679 0.10928962 0.28415301 0.78688525 0.89071038 0.08014572\n",
      " 0.19125683 0.97814208 0.7704918  0.12750455 0.71038251 0.40255009\n",
      " 0.35519126 0.20765027 0.04553734 0.03642987 0.46448087 0.01275046\n",
      " 0.89981785 0.99817851 0.23132969 0.68306011 0.6010929  0.21857923\n",
      " 0.86703097 0.36612022 0.28961749 0.70491803 0.95446266 0.2276867\n",
      " 0.09107468 0.69945355 0.08743169 0.47905282 0.72859745 0.73952641\n",
      " 0.59744991 0.87249545 0.87613843 0.89799636 0.80327869 0.46812386\n",
      " 0.82331512 0.27686703 0.5136612  0.00182149 0.67941712 0.42258652\n",
      " 0.19854281 0.52823315 0.50273224 0.84881603 0.87067395 0.61202186\n",
      " 0.78870674 0.45355191 0.27322404 0.84699454 0.70673953 0.17668488\n",
      " 0.3132969  0.53551913 0.2568306  0.54462659 0.46994536 0.87431694\n",
      " 0.33333333 0.58652095 0.97449909 0.33879781 0.15300546 0.61566485\n",
      " 0.37704918 0.92349727 0.87978142 0.89617486 0.70309654 0.98907104\n",
      " 0.83424408 0.31147541 0.56102004 0.9708561  0.84153005 0.26411658\n",
      " 0.74681239 0.15846995 0.74499089 0.36976321 0.1147541  0.94717668\n",
      " 0.04735883 0.5701275  0.3989071  0.88342441 0.05464481 0.9417122\n",
      " 0.6575592  0.43169399 0.77777778 0.25500911 0.58834244 0.35701275\n",
      " 0.56830601 0.58105647 0.33697632 0.66302368 0.30418944 0.07285974\n",
      " 0.60291439 0.57377049 0.23861566 0.83242259 0.52276867 0.3715847\n",
      " 0.91803279 0.40619308 0.06010929 0.21493625 0.12386157 0.\n",
      " 0.3424408  0.29143898 0.73406193 0.18761384 0.26958106 0.96539162\n",
      " 0.91985428 0.82513661 0.90346084 0.51183971 0.02550091 0.72677596\n",
      " 0.78142077 0.72313297 0.11839709 0.99271403 0.31693989 0.75227687\n",
      " 0.94535519 0.79417122 0.13296903 0.99089253 0.4863388  0.16575592\n",
      " 0.44444444 0.97996357 0.33151184 0.63934426 0.10382514 0.36794171\n",
      " 0.85063752 0.79781421 0.38251366 0.73588342 0.97632058 0.63205829\n",
      " 0.23315118 0.43533698 0.55191257 0.53005464 0.83060109 0.75956284\n",
      " 0.49180328 0.92896175 0.41347905 0.48269581 0.6557377  0.49726776\n",
      " 0.69581056 0.15482696 0.16393443 0.25136612 0.40983607 0.84517304\n",
      " 0.10200364 0.38433515 0.45173042 0.25865209 0.73224044 0.64480874\n",
      " 0.95081967 0.04918033 0.38615665 0.54098361 0.38069217 0.2295082\n",
      " 0.46630237 0.85974499 0.76867031 0.95628415 0.77413479 0.96174863\n",
      " 0.28051002 0.80874317 0.63570128 0.89253188 0.91256831 0.66484517\n",
      " 0.08196721 0.70856102 0.47540984 0.29690346 0.94899818 0.55737705\n",
      " 0.18943534 0.54644809 0.89435337 0.44990893 0.90892532 0.09836066\n",
      " 0.14025501 0.66848816 0.70127505 0.10746812 0.04007286 0.04189435\n",
      " 0.05282332 0.50091075 0.24954463 0.79234973 0.41165756 0.81238616\n",
      " 0.06557377 0.91074681 0.34790528 0.91621129 0.09653916 0.33515483\n",
      " 0.44626594 0.01092896 0.49544627 0.55555556 0.1420765  0.46265938\n",
      " 0.44262295 0.16757741 0.23679417 0.36429872 0.99635701 0.03825137\n",
      " 0.8287796  0.58469945 0.52459016 0.99453552 0.43351548 0.19672131\n",
      " 0.08925319 0.34972678 0.39344262 0.83606557 0.90710383 0.71584699\n",
      " 0.60473588 0.00364299 0.7723133  0.48816029 0.1129326  0.75045537\n",
      " 0.59198543 0.10018215 0.88160291 0.10564663 0.93442623 0.26593807\n",
      " 0.47723133 0.85245902 0.02003643 0.61384335 0.26047359 0.16211293\n",
      " 0.16029144 0.39162113 0.2003643  0.78506375]\n",
      "MonthsEmployed: [0.67226891 0.12605042 0.21848739 0.         0.06722689 0.1512605\n",
      " 0.56302521 0.69747899 0.95798319 0.78991597 0.47058824 0.73109244\n",
      " 0.94117647 0.2605042  0.41176471 0.8907563  1.         0.54621849\n",
      " 0.80672269 0.46218487 0.40336134 0.61344538 0.92436975 0.48739496\n",
      " 0.5210084  0.13445378 0.4789916  0.31092437 0.05042017 0.86554622\n",
      " 0.32773109 0.42857143 0.20168067 0.88235294 0.39495798 0.98319328\n",
      " 0.26890756 0.83193277 0.70588235 0.60504202 0.7394958  0.22689076\n",
      " 0.30252101 0.27731092 0.49579832 0.16806723 0.45378151 0.63865546\n",
      " 0.55462185 0.09243697 0.19327731 0.18487395 0.78151261 0.29411765\n",
      " 0.42016807 0.57983193 0.58823529 0.93277311 0.52941176 0.07563025\n",
      " 0.00840336 0.3697479  0.21008403 0.59663866 0.8487395  0.44537815\n",
      " 0.37815126 0.76470588 0.43697479 0.62184874 0.72268908 0.03361345\n",
      " 0.08403361 0.68907563 0.05882353 0.66386555 0.71428571 0.10084034\n",
      " 0.14285714 0.23529412 0.57142857 0.84033613 0.50420168 0.96638655\n",
      " 0.36134454 0.11764706 0.1092437  0.87394958 0.79831933 0.99159664\n",
      " 0.94957983 0.81512605 0.90756303 0.33613445 0.64705882 0.91596639\n",
      " 0.28571429 0.34453782 0.77310924 0.38655462 0.01680672 0.02521008\n",
      " 0.65546218 0.97478992 0.74789916 0.6302521  0.68067227 0.04201681\n",
      " 0.75630252 0.89915966 0.82352941 0.17647059 0.53781513 0.24369748\n",
      " 0.25210084 0.15966387 0.31932773 0.51260504 0.35294118 0.85714286]\n",
      "NumCreditLines: [1.         0.         0.66666667 0.33333333]\n",
      "InterestRate: [0.57521739 0.12217391 0.83347826 ... 0.02       0.77434783 0.30478261]\n",
      "LoanTerm: [0.5  1.   0.25 0.75 0.  ]\n",
      "DTIRatio: [0.425  0.725  0.2625 0.1625 0.7875 0.     0.075  0.4125 0.125  0.2875\n",
      " 0.875  0.4375 0.9875 0.225  0.7    0.0875 0.3625 0.6875 0.35   0.4625\n",
      " 0.15   0.5    0.1125 0.025  0.9    0.85   0.95   0.7375 0.8125 0.5375\n",
      " 0.375  0.475  0.575  0.25   0.4    0.8875 0.6    0.275  0.825  0.6125\n",
      " 0.8    0.1875 0.3375 0.5125 0.175  0.0625 0.325  0.3875 0.7625 0.4875\n",
      " 0.625  0.775  0.5875 0.9625 0.65   0.1    0.675  0.9125 0.0125 0.75\n",
      " 0.3125 0.975  0.8625 0.925  0.525  0.6375 0.05   0.55   1.     0.7125\n",
      " 0.2    0.2375 0.3    0.8375 0.5625 0.0375 0.6625 0.45   0.1375 0.9375\n",
      " 0.2125]\n",
      "HasMortgage: [1 0]\n",
      "HasDependents: [1 0]\n",
      "HasCoSigner: [1 0]\n",
      "Default: [0 1]\n",
      "Education_Bachelor's: [1 0]\n",
      "Education_High School: [0 1]\n",
      "Education_Master's: [0 1]\n",
      "Education_PhD: [0 1]\n",
      "EmploymentType_Full-time: [1 0]\n",
      "EmploymentType_Part-time: [0 1]\n",
      "EmploymentType_Self-employed: [0 1]\n",
      "EmploymentType_Unemployed: [0 1]\n",
      "MaritalStatus_Divorced: [1 0]\n",
      "MaritalStatus_Married: [0 1]\n",
      "MaritalStatus_Single: [0 1]\n",
      "LoanPurpose_Auto: [0 1]\n",
      "LoanPurpose_Business: [0 1]\n",
      "LoanPurpose_Education: [0 1]\n",
      "LoanPurpose_Home: [0 1]\n",
      "LoanPurpose_Other: [1 0]\n"
     ]
    }
   ],
   "source": [
    "printColumnValue(train_df, showAll=True) # check converted numeric values"
   ]
  },
  {
   "cell_type": "code",
   "execution_count": 90,
   "metadata": {},
   "outputs": [
    {
     "data": {
      "text/html": [
       "<div>\n",
       "<style scoped>\n",
       "    .dataframe tbody tr th:only-of-type {\n",
       "        vertical-align: middle;\n",
       "    }\n",
       "\n",
       "    .dataframe tbody tr th {\n",
       "        vertical-align: top;\n",
       "    }\n",
       "\n",
       "    .dataframe thead th {\n",
       "        text-align: right;\n",
       "    }\n",
       "</style>\n",
       "<table border=\"1\" class=\"dataframe\">\n",
       "  <thead>\n",
       "    <tr style=\"text-align: right;\">\n",
       "      <th></th>\n",
       "      <th>LoanID</th>\n",
       "      <th>Age</th>\n",
       "      <th>Income</th>\n",
       "      <th>LoanAmount</th>\n",
       "      <th>CreditScore</th>\n",
       "      <th>MonthsEmployed</th>\n",
       "      <th>NumCreditLines</th>\n",
       "      <th>InterestRate</th>\n",
       "      <th>LoanTerm</th>\n",
       "      <th>DTIRatio</th>\n",
       "      <th>...</th>\n",
       "      <th>EmploymentType_Self-employed</th>\n",
       "      <th>EmploymentType_Unemployed</th>\n",
       "      <th>MaritalStatus_Divorced</th>\n",
       "      <th>MaritalStatus_Married</th>\n",
       "      <th>MaritalStatus_Single</th>\n",
       "      <th>LoanPurpose_Auto</th>\n",
       "      <th>LoanPurpose_Business</th>\n",
       "      <th>LoanPurpose_Education</th>\n",
       "      <th>LoanPurpose_Home</th>\n",
       "      <th>LoanPurpose_Other</th>\n",
       "    </tr>\n",
       "  </thead>\n",
       "  <tbody>\n",
       "    <tr>\n",
       "      <th>0</th>\n",
       "      <td>7RYZGMKJIR</td>\n",
       "      <td>0.274510</td>\n",
       "      <td>0.864040</td>\n",
       "      <td>0.158351</td>\n",
       "      <td>0.914390</td>\n",
       "      <td>0.193277</td>\n",
       "      <td>0.333333</td>\n",
       "      <td>0.178261</td>\n",
       "      <td>0.25</td>\n",
       "      <td>0.0375</td>\n",
       "      <td>...</td>\n",
       "      <td>0</td>\n",
       "      <td>0</td>\n",
       "      <td>1</td>\n",
       "      <td>0</td>\n",
       "      <td>0</td>\n",
       "      <td>0</td>\n",
       "      <td>0</td>\n",
       "      <td>0</td>\n",
       "      <td>0</td>\n",
       "      <td>1</td>\n",
       "    </tr>\n",
       "    <tr>\n",
       "      <th>1</th>\n",
       "      <td>JDL5RH07AM</td>\n",
       "      <td>0.843137</td>\n",
       "      <td>0.883797</td>\n",
       "      <td>0.054695</td>\n",
       "      <td>0.125683</td>\n",
       "      <td>0.731092</td>\n",
       "      <td>0.333333</td>\n",
       "      <td>0.477826</td>\n",
       "      <td>1.00</td>\n",
       "      <td>0.6125</td>\n",
       "      <td>...</td>\n",
       "      <td>1</td>\n",
       "      <td>0</td>\n",
       "      <td>0</td>\n",
       "      <td>0</td>\n",
       "      <td>1</td>\n",
       "      <td>0</td>\n",
       "      <td>1</td>\n",
       "      <td>0</td>\n",
       "      <td>0</td>\n",
       "      <td>0</td>\n",
       "    </tr>\n",
       "    <tr>\n",
       "      <th>2</th>\n",
       "      <td>STAL716Y79</td>\n",
       "      <td>0.725490</td>\n",
       "      <td>0.746733</td>\n",
       "      <td>0.599087</td>\n",
       "      <td>0.479053</td>\n",
       "      <td>0.025210</td>\n",
       "      <td>0.666667</td>\n",
       "      <td>0.152609</td>\n",
       "      <td>0.75</td>\n",
       "      <td>0.9000</td>\n",
       "      <td>...</td>\n",
       "      <td>0</td>\n",
       "      <td>0</td>\n",
       "      <td>0</td>\n",
       "      <td>0</td>\n",
       "      <td>1</td>\n",
       "      <td>0</td>\n",
       "      <td>0</td>\n",
       "      <td>0</td>\n",
       "      <td>0</td>\n",
       "      <td>1</td>\n",
       "    </tr>\n",
       "    <tr>\n",
       "      <th>3</th>\n",
       "      <td>SO0KKJ3IQB</td>\n",
       "      <td>0.784314</td>\n",
       "      <td>0.592366</td>\n",
       "      <td>0.207300</td>\n",
       "      <td>0.067395</td>\n",
       "      <td>0.201681</td>\n",
       "      <td>0.000000</td>\n",
       "      <td>0.953478</td>\n",
       "      <td>0.50</td>\n",
       "      <td>0.8375</td>\n",
       "      <td>...</td>\n",
       "      <td>0</td>\n",
       "      <td>1</td>\n",
       "      <td>1</td>\n",
       "      <td>0</td>\n",
       "      <td>0</td>\n",
       "      <td>0</td>\n",
       "      <td>1</td>\n",
       "      <td>0</td>\n",
       "      <td>0</td>\n",
       "      <td>0</td>\n",
       "    </tr>\n",
       "    <tr>\n",
       "      <th>4</th>\n",
       "      <td>T99CWTYDCP</td>\n",
       "      <td>0.882353</td>\n",
       "      <td>0.420190</td>\n",
       "      <td>0.754291</td>\n",
       "      <td>0.275046</td>\n",
       "      <td>0.436975</td>\n",
       "      <td>0.666667</td>\n",
       "      <td>0.871739</td>\n",
       "      <td>0.75</td>\n",
       "      <td>0.4250</td>\n",
       "      <td>...</td>\n",
       "      <td>0</td>\n",
       "      <td>1</td>\n",
       "      <td>0</td>\n",
       "      <td>0</td>\n",
       "      <td>1</td>\n",
       "      <td>1</td>\n",
       "      <td>0</td>\n",
       "      <td>0</td>\n",
       "      <td>0</td>\n",
       "      <td>0</td>\n",
       "    </tr>\n",
       "  </tbody>\n",
       "</table>\n",
       "<p>5 rows × 29 columns</p>\n",
       "</div>"
      ],
      "text/plain": [
       "       LoanID       Age    Income  LoanAmount  CreditScore  MonthsEmployed   \n",
       "0  7RYZGMKJIR  0.274510  0.864040    0.158351     0.914390        0.193277  \\\n",
       "1  JDL5RH07AM  0.843137  0.883797    0.054695     0.125683        0.731092   \n",
       "2  STAL716Y79  0.725490  0.746733    0.599087     0.479053        0.025210   \n",
       "3  SO0KKJ3IQB  0.784314  0.592366    0.207300     0.067395        0.201681   \n",
       "4  T99CWTYDCP  0.882353  0.420190    0.754291     0.275046        0.436975   \n",
       "\n",
       "   NumCreditLines  InterestRate  LoanTerm  DTIRatio  ...   \n",
       "0        0.333333      0.178261      0.25    0.0375  ...  \\\n",
       "1        0.333333      0.477826      1.00    0.6125  ...   \n",
       "2        0.666667      0.152609      0.75    0.9000  ...   \n",
       "3        0.000000      0.953478      0.50    0.8375  ...   \n",
       "4        0.666667      0.871739      0.75    0.4250  ...   \n",
       "\n",
       "   EmploymentType_Self-employed  EmploymentType_Unemployed   \n",
       "0                             0                          0  \\\n",
       "1                             1                          0   \n",
       "2                             0                          0   \n",
       "3                             0                          1   \n",
       "4                             0                          1   \n",
       "\n",
       "   MaritalStatus_Divorced  MaritalStatus_Married  MaritalStatus_Single   \n",
       "0                       1                      0                     0  \\\n",
       "1                       0                      0                     1   \n",
       "2                       0                      0                     1   \n",
       "3                       1                      0                     0   \n",
       "4                       0                      0                     1   \n",
       "\n",
       "   LoanPurpose_Auto  LoanPurpose_Business  LoanPurpose_Education   \n",
       "0                 0                     0                      0  \\\n",
       "1                 0                     1                      0   \n",
       "2                 0                     0                      0   \n",
       "3                 0                     1                      0   \n",
       "4                 1                     0                      0   \n",
       "\n",
       "   LoanPurpose_Home  LoanPurpose_Other  \n",
       "0                 0                  1  \n",
       "1                 0                  0  \n",
       "2                 0                  1  \n",
       "3                 0                  0  \n",
       "4                 0                  0  \n",
       "\n",
       "[5 rows x 29 columns]"
      ]
     },
     "execution_count": 90,
     "metadata": {},
     "output_type": "execute_result"
    }
   ],
   "source": [
    "test_df = preprocessData(test_df)\n",
    "test_df.head()"
   ]
  },
  {
   "cell_type": "markdown",
   "metadata": {},
   "source": [
    "## Use over sampling method to make training data balanced "
   ]
  },
  {
   "cell_type": "code",
   "execution_count": 75,
   "metadata": {},
   "outputs": [],
   "source": [
    "# !pip install imbalanced-learn for SMOTE package\n",
    "from imblearn.over_sampling import SMOTE\n",
    "from sklearn.preprocessing import StandardScaler\n",
    "y = train_df[\"Default\"]\n",
    "x = train_df.drop(\"Default\", axis=1)\n"
   ]
  },
  {
   "cell_type": "code",
   "execution_count": 76,
   "metadata": {},
   "outputs": [],
   "source": [
    "smt = SMOTE()\n",
    "xTrainSM, yTrainSM = smt.fit_resample(x, y)"
   ]
  },
  {
   "cell_type": "code",
   "execution_count": 82,
   "metadata": {},
   "outputs": [
    {
     "data": {
      "image/png": "[encoded data removed]",
      "text/plain": [
       "<Figure size 640x480 with 1 Axes>"
      ]
     },
     "metadata": {},
     "output_type": "display_data"
    }
   ],
   "source": [
    "# seem the data is extremely imbalanced\n",
    "train_df[\"Default\"].value_counts().plot(kind=\"bar\", \n",
    "                                        color=[\"salmon\", \"lightblue\"], title=\"Loan Default Distribution for imbalanced data\", \n",
    "                                        xlabel=\"0 = No Default, 1 = Default\",\n",
    "                                        ylabel=\"Count\");"
   ]
  },
  {
   "cell_type": "code",
   "execution_count": 80,
   "metadata": {},
   "outputs": [
    {
     "data": {
      "image/png": "[encoded data removed]",
      "text/plain": [
       "<Figure size 640x480 with 1 Axes>"
      ]
     },
     "metadata": {},
     "output_type": "display_data"
    }
   ],
   "source": [
    "yTrainSM.value_counts().plot(kind=\"bar\", color=[\"salmon\", \"lightblue\"], title=\"New Loan Default Distribution for SMOTE\", \n",
    "                                        xlabel=\"0 = No Default, 1 = Default\",\n",
    "                                        ylabel=\"Count\");"
   ]
  },
  {
   "cell_type": "code",
   "execution_count": 89,
   "metadata": {},
   "outputs": [
    {
     "name": "stdout",
     "output_type": "stream",
     "text": [
      "<class 'pandas.core.frame.DataFrame'>\n",
      "RangeIndex: 255347 entries, 0 to 255346\n",
      "Data columns (total 29 columns):\n",
      " #   Column                        Non-Null Count   Dtype  \n",
      "---  ------                        --------------   -----  \n",
      " 0   Age                           255347 non-null  float64\n",
      " 1   Income                        255347 non-null  float64\n",
      " 2   LoanAmount                    255347 non-null  float64\n",
      " 3   CreditScore                   255347 non-null  float64\n",
      " 4   MonthsEmployed                255347 non-null  float64\n",
      " 5   NumCreditLines                255347 non-null  float64\n",
      " 6   InterestRate                  255347 non-null  float64\n",
      " 7   LoanTerm                      255347 non-null  float64\n",
      " 8   DTIRatio                      255347 non-null  float64\n",
      " 9   HasMortgage                   255347 non-null  int64  \n",
      " 10  HasDependents                 255347 non-null  int64  \n",
      " 11  HasCoSigner                   255347 non-null  int64  \n",
      " 12  Default                       255347 non-null  int64  \n",
      " 13  Education_Bachelor's          255347 non-null  int64  \n",
      " 14  Education_High School         255347 non-null  int64  \n",
      " 15  Education_Master's            255347 non-null  int64  \n",
      " 16  Education_PhD                 255347 non-null  int64  \n",
      " 17  EmploymentType_Full-time      255347 non-null  int64  \n",
      " 18  EmploymentType_Part-time      255347 non-null  int64  \n",
      " 19  EmploymentType_Self-employed  255347 non-null  int64  \n",
      " 20  EmploymentType_Unemployed     255347 non-null  int64  \n",
      " 21  MaritalStatus_Divorced        255347 non-null  int64  \n",
      " 22  MaritalStatus_Married         255347 non-null  int64  \n",
      " 23  MaritalStatus_Single          255347 non-null  int64  \n",
      " 24  LoanPurpose_Auto              255347 non-null  int64  \n",
      " 25  LoanPurpose_Business          255347 non-null  int64  \n",
      " 26  LoanPurpose_Education         255347 non-null  int64  \n",
      " 27  LoanPurpose_Home              255347 non-null  int64  \n",
      " 28  LoanPurpose_Other             255347 non-null  int64  \n",
      "dtypes: float64(9), int64(20)\n",
      "memory usage: 56.5 MB\n"
     ]
    }
   ],
   "source": [
    "train_df.info()"
   ]
  },
  {
   "cell_type": "code",
   "execution_count": 93,
   "metadata": {},
   "outputs": [
    {
     "name": "stdout",
     "output_type": "stream",
     "text": [
      "<class 'pandas.core.frame.DataFrame'>\n",
      "RangeIndex: 451388 entries, 0 to 451387\n",
      "Data columns (total 28 columns):\n",
      " #   Column                        Non-Null Count   Dtype  \n",
      "---  ------                        --------------   -----  \n",
      " 0   Age                           451388 non-null  float64\n",
      " 1   Income                        451388 non-null  float64\n",
      " 2   LoanAmount                    451388 non-null  float64\n",
      " 3   CreditScore                   451388 non-null  float64\n",
      " 4   MonthsEmployed                451388 non-null  float64\n",
      " 5   NumCreditLines                451388 non-null  float64\n",
      " 6   InterestRate                  451388 non-null  float64\n",
      " 7   LoanTerm                      451388 non-null  float64\n",
      " 8   DTIRatio                      451388 non-null  float64\n",
      " 9   HasMortgage                   451388 non-null  int64  \n",
      " 10  HasDependents                 451388 non-null  int64  \n",
      " 11  HasCoSigner                   451388 non-null  int64  \n",
      " 12  Education_Bachelor's          451388 non-null  int64  \n",
      " 13  Education_High School         451388 non-null  int64  \n",
      " 14  Education_Master's            451388 non-null  int64  \n",
      " 15  Education_PhD                 451388 non-null  int64  \n",
      " 16  EmploymentType_Full-time      451388 non-null  int64  \n",
      " 17  EmploymentType_Part-time      451388 non-null  int64  \n",
      " 18  EmploymentType_Self-employed  451388 non-null  int64  \n",
      " 19  EmploymentType_Unemployed     451388 non-null  int64  \n",
      " 20  MaritalStatus_Divorced        451388 non-null  int64  \n",
      " 21  MaritalStatus_Married         451388 non-null  int64  \n",
      " 22  MaritalStatus_Single          451388 non-null  int64  \n",
      " 23  LoanPurpose_Auto              451388 non-null  int64  \n",
      " 24  LoanPurpose_Business          451388 non-null  int64  \n",
      " 25  LoanPurpose_Education         451388 non-null  int64  \n",
      " 26  LoanPurpose_Home              451388 non-null  int64  \n",
      " 27  LoanPurpose_Other             451388 non-null  int64  \n",
      "dtypes: float64(9), int64(19)\n",
      "memory usage: 96.4 MB\n"
     ]
    }
   ],
   "source": [
    "xTrainSM.info()"
   ]
  },
  {
   "cell_type": "code",
   "execution_count": null,
   "metadata": {},
   "outputs": [],
   "source": []
  },
  {
   "cell_type": "markdown",
   "metadata": {},
   "source": [
    "## Make predictions (required)\n",
    "\n",
    "Remember you should create a dataframe named `prediction_df` with exactly 109,435 entries plus a header row attempting to predict the likelihood of borrowers to default on their loans in `test_df`. Your submission will throw an error if you have extra columns (beyond `LoanID` and `predicted_probaility`) or extra rows.\n",
    "\n",
    "The file should have exactly 2 columns:\n",
    "`LoanID` (sorted in any order)\n",
    "`predicted_probability` (contains your numeric predicted probabilities between 0 and 1, e.g. from `estimator.predict_proba(X, y)[:, 1]`)\n",
    "\n",
    "The naming convention of the dataframe and columns are critical for our autograding, so please make sure to use the exact naming conventions of `prediction_df` with column names `LoanID` and `predicted_probability`!"
   ]
  },
  {
   "cell_type": "markdown",
   "metadata": {},
   "source": [
    "### Example prediction submission:\n",
    "\n",
    "The code below is a very naive prediction method that simply predicts loan defaults using a Dummy Classifier. This is used as just an example showing the submission format required. Please change/alter/delete this code below and create your own improved prediction methods for generating `prediction_df`."
   ]
  },
  {
   "cell_type": "markdown",
   "metadata": {},
   "source": [
    "**PLEASE CHANGE CODE BELOW TO IMPLEMENT YOUR OWN PREDICTIONS**"
   ]
  },
  {
   "cell_type": "code",
   "execution_count": 83,
   "metadata": {},
   "outputs": [
    {
     "name": "stdout",
     "output_type": "stream",
     "text": [
      "Defaulting to user installation because normal site-packages is not writeable\n",
      "Requirement already satisfied: xgboost in /home/johnsonhk88/.local/lib/python3.10/site-packages (1.7.6)\n",
      "Requirement already satisfied: numpy in /home/johnsonhk88/.local/lib/python3.10/site-packages (from xgboost) (1.24.3)\n",
      "Requirement already satisfied: scipy in /usr/lib/python3/dist-packages (from xgboost) (1.8.0)\n",
      "Defaulting to user installation because normal site-packages is not writeable\n",
      "Requirement already satisfied: lightgbm in /home/johnsonhk88/.local/lib/python3.10/site-packages (4.3.0)\n",
      "Requirement already satisfied: numpy in /home/johnsonhk88/.local/lib/python3.10/site-packages (from lightgbm) (1.24.3)\n",
      "Requirement already satisfied: scipy in /usr/lib/python3/dist-packages (from lightgbm) (1.8.0)\n"
     ]
    }
   ],
   "source": [
    "# ## Install  xgboost and lightgbm\n",
    "# !pip install xgboost\n",
    "# # !pip install lightgbm"
   ]
  },
  {
   "cell_type": "markdown",
   "metadata": {},
   "source": [
    "### Use Different Machine Learning Models for Predicting, selecting best model for final prediction"
   ]
  },
  {
   "cell_type": "code",
   "execution_count": 85,
   "metadata": {},
   "outputs": [],
   "source": [
    "#import ML model\n",
    "from sklearn.ensemble import RandomForestClassifier\n",
    "from tqdm import tqdm"
   ]
  },
  {
   "cell_type": "markdown",
   "metadata": {},
   "source": [
    "#### Define X and Y train data and Train Test data split into training and testing"
   ]
  },
  {
   "cell_type": "code",
   "execution_count": 87,
   "metadata": {},
   "outputs": [],
   "source": [
    "## Define X and Y train data and Train Test data split into training and testing\n",
    "X_train, X_test, y_train, y_test = train_test_split(xTrainSM, yTrainSM, test_size=0.2, random_state=42)"
   ]
  },
  {
   "cell_type": "code",
   "execution_count": 88,
   "metadata": {},
   "outputs": [
    {
     "data": {
      "text/plain": [
       "((361110, 28), (90278, 28), (361110,), (90278,))"
      ]
     },
     "execution_count": 88,
     "metadata": {},
     "output_type": "execute_result"
    }
   ],
   "source": [
    "X_train.shape, X_test.shape, y_train.shape, y_test.shape"
   ]
  },
  {
   "cell_type": "markdown",
   "metadata": {},
   "source": [
    "### RandomForest Model "
   ]
  },
  {
   "cell_type": "code",
   "execution_count": 94,
   "metadata": {},
   "outputs": [],
   "source": [
    "maxDepth = 7#10\n",
    "rfc = RandomForestClassifier(n_estimators=100, \n",
    "                            class_weight='balanced', \n",
    "                            random_state=42, \n",
    "                            n_jobs=-1, verbose=1)"
   ]
  },
  {
   "cell_type": "code",
   "execution_count": 95,
   "metadata": {},
   "outputs": [
    {
     "name": "stderr",
     "output_type": "stream",
     "text": [
      "[Parallel(n_jobs=-1)]: Using backend ThreadingBackend with 24 concurrent workers.\n",
      "[Parallel(n_jobs=-1)]: Done   2 tasks      | elapsed:    1.2s\n",
      "[Parallel(n_jobs=-1)]: Done 100 out of 100 | elapsed:    6.1s finished\n"
     ]
    },
    {
     "data": {
      "text/html": [
       "<style>#sk-container-id-1 {color: black;}#sk-container-id-1 pre{padding: 0;}#sk-container-id-1 div.sk-toggleable {background-color: white;}#sk-container-id-1 label.sk-toggleable__label {cursor: pointer;display: block;width: 100%;margin-bottom: 0;padding: 0.3em;box-sizing: border-box;text-align: center;}#sk-container-id-1 label.sk-toggleable__label-arrow:before {content: \"▸\";float: left;margin-right: 0.25em;color: #696969;}#sk-container-id-1 label.sk-toggleable__label-arrow:hover:before {color: black;}#sk-container-id-1 div.sk-estimator:hover label.sk-toggleable__label-arrow:before {color: black;}#sk-container-id-1 div.sk-toggleable__content {max-height: 0;max-width: 0;overflow: hidden;text-align: left;background-color: #f0f8ff;}#sk-container-id-1 div.sk-toggleable__content pre {margin: 0.2em;color: black;border-radius: 0.25em;background-color: #f0f8ff;}#sk-container-id-1 input.sk-toggleable__control:checked~div.sk-toggleable__content {max-height: 200px;max-width: 100%;overflow: auto;}#sk-container-id-1 input.sk-toggleable__control:checked~label.sk-toggleable__label-arrow:before {content: \"▾\";}#sk-container-id-1 div.sk-estimator input.sk-toggleable__control:checked~label.sk-toggleable__label {background-color: #d4ebff;}#sk-container-id-1 div.sk-label input.sk-toggleable__control:checked~label.sk-toggleable__label {background-color: #d4ebff;}#sk-container-id-1 input.sk-hidden--visually {border: 0;clip: rect(1px 1px 1px 1px);clip: rect(1px, 1px, 1px, 1px);height: 1px;margin: -1px;overflow: hidden;padding: 0;position: absolute;width: 1px;}#sk-container-id-1 div.sk-estimator {font-family: monospace;background-color: #f0f8ff;border: 1px dotted black;border-radius: 0.25em;box-sizing: border-box;margin-bottom: 0.5em;}#sk-container-id-1 div.sk-estimator:hover {background-color: #d4ebff;}#sk-container-id-1 div.sk-parallel-item::after {content: \"\";width: 100%;border-bottom: 1px solid gray;flex-grow: 1;}#sk-container-id-1 div.sk-label:hover label.sk-toggleable__label {background-color: #d4ebff;}#sk-container-id-1 div.sk-serial::before {content: \"\";position: absolute;border-left: 1px solid gray;box-sizing: border-box;top: 0;bottom: 0;left: 50%;z-index: 0;}#sk-container-id-1 div.sk-serial {display: flex;flex-direction: column;align-items: center;background-color: white;padding-right: 0.2em;padding-left: 0.2em;position: relative;}#sk-container-id-1 div.sk-item {position: relative;z-index: 1;}#sk-container-id-1 div.sk-parallel {display: flex;align-items: stretch;justify-content: center;background-color: white;position: relative;}#sk-container-id-1 div.sk-item::before, #sk-container-id-1 div.sk-parallel-item::before {content: \"\";position: absolute;border-left: 1px solid gray;box-sizing: border-box;top: 0;bottom: 0;left: 50%;z-index: -1;}#sk-container-id-1 div.sk-parallel-item {display: flex;flex-direction: column;z-index: 1;position: relative;background-color: white;}#sk-container-id-1 div.sk-parallel-item:first-child::after {align-self: flex-end;width: 50%;}#sk-container-id-1 div.sk-parallel-item:last-child::after {align-self: flex-start;width: 50%;}#sk-container-id-1 div.sk-parallel-item:only-child::after {width: 0;}#sk-container-id-1 div.sk-dashed-wrapped {border: 1px dashed gray;margin: 0 0.4em 0.5em 0.4em;box-sizing: border-box;padding-bottom: 0.4em;background-color: white;}#sk-container-id-1 div.sk-label label {font-family: monospace;font-weight: bold;display: inline-block;line-height: 1.2em;}#sk-container-id-1 div.sk-label-container {text-align: center;}#sk-container-id-1 div.sk-container {/* jupyter's `normalize.less` sets `[hidden] { display: none; }` but bootstrap.min.css set `[hidden] { display: none !important; }` so we also need the `!important` here to be able to override the default hidden behavior on the sphinx rendered scikit-learn.org. See: https://github.com/scikit-learn/scikit-learn/issues/21755 */display: inline-block !important;position: relative;}#sk-container-id-1 div.sk-text-repr-fallback {display: none;}</style><div id=\"sk-container-id-1\" class=\"sk-top-container\"><div class=\"sk-text-repr-fallback\"><pre>RandomForestClassifier(class_weight=&#x27;balanced&#x27;, n_jobs=-1, random_state=42,\n",
       "                       verbose=1)</pre><b>In a Jupyter environment, please rerun this cell to show the HTML representation or trust the notebook. <br />On GitHub, the HTML representation is unable to render, please try loading this page with nbviewer.org.</b></div><div class=\"sk-container\" hidden><div class=\"sk-item\"><div class=\"sk-estimator sk-toggleable\"><input class=\"sk-toggleable__control sk-hidden--visually\" id=\"sk-estimator-id-1\" type=\"checkbox\" checked><label for=\"sk-estimator-id-1\" class=\"sk-toggleable__label sk-toggleable__label-arrow\">RandomForestClassifier</label><div class=\"sk-toggleable__content\"><pre>RandomForestClassifier(class_weight=&#x27;balanced&#x27;, n_jobs=-1, random_state=42,\n",
       "                       verbose=1)</pre></div></div></div></div></div>"
      ],
      "text/plain": [
       "RandomForestClassifier(class_weight='balanced', n_jobs=-1, random_state=42,\n",
       "                       verbose=1)"
      ]
     },
     "execution_count": 95,
     "metadata": {},
     "output_type": "execute_result"
    }
   ],
   "source": [
    "# Random forest train \n",
    "rfc.fit(X_train, y_train)"
   ]
  },
  {
   "cell_type": "code",
   "execution_count": 97,
   "metadata": {},
   "outputs": [
    {
     "name": "stderr",
     "output_type": "stream",
     "text": [
      "[Parallel(n_jobs=24)]: Using backend ThreadingBackend with 24 concurrent workers.\n",
      "[Parallel(n_jobs=24)]: Done   2 tasks      | elapsed:    0.0s\n",
      "[Parallel(n_jobs=24)]: Done 100 out of 100 | elapsed:    0.2s finished\n",
      "[Parallel(n_jobs=24)]: Using backend ThreadingBackend with 24 concurrent workers.\n",
      "[Parallel(n_jobs=24)]: Done   2 tasks      | elapsed:    0.0s\n",
      "[Parallel(n_jobs=24)]: Done 100 out of 100 | elapsed:    0.2s finished\n"
     ]
    }
   ],
   "source": [
    "# Random forest predict\n",
    "evalRF = rfc.predict(X_test)\n",
    "evalRFProb = rfc.predict_proba(X_test)[:,1] # get the probability of the positive class"
   ]
  },
  {
   "cell_type": "code",
   "execution_count": 98,
   "metadata": {},
   "outputs": [
    {
     "name": "stdout",
     "output_type": "stream",
     "text": [
      "              precision    recall  f1-score   support\n",
      "\n",
      "           0       0.90      0.94      0.92     45127\n",
      "           1       0.94      0.90      0.92     45151\n",
      "\n",
      "    accuracy                           0.92     90278\n",
      "   macro avg       0.92      0.92      0.92     90278\n",
      "weighted avg       0.92      0.92      0.92     90278\n",
      "\n"
     ]
    }
   ],
   "source": [
    "reportClassificationRF = classification_report(y_test, evalRF)\n",
    "print(reportClassificationRF)"
   ]
  },
  {
   "cell_type": "code",
   "execution_count": 99,
   "metadata": {},
   "outputs": [
    {
     "data": {
      "text/plain": [
       "0.9744023142889207"
      ]
     },
     "execution_count": 99,
     "metadata": {},
     "output_type": "execute_result"
    }
   ],
   "source": [
    "rfc_auc = roc_auc_score(y_test, evalRFProb)\n",
    "rfc_fpr, rfc_tpr, rfc_th = roc_curve(y_test, evalRFProb)\n",
    "rfc_auc"
   ]
  },
  {
   "cell_type": "code",
   "execution_count": 100,
   "metadata": {},
   "outputs": [
    {
     "data": {
      "image/png": "[encoded data removed]",
      "text/plain": [
       "<Figure size 600x400 with 1 Axes>"
      ]
     },
     "metadata": {},
     "output_type": "display_data"
    }
   ],
   "source": [
    "plt.figure(figsize=(6, 4))\n",
    "plt.plot(rfc_fpr, rfc_tpr, label='ROC curve (area = %0.2f)' % rfc_auc)\n",
    "plt.plot([0, 1], [0, 1], 'k--', label='No Skill')\n",
    "plt.xlim([0.0, 1.0])\n",
    "plt.ylim([0.0, 1.05])\n",
    "plt.xlabel('False Positive Rate')\n",
    "plt.ylabel('True Positive Rate')\n",
    "plt.title('ROC Curve for Random Forest Classification')\n",
    "plt.legend()\n",
    "plt.show()"
   ]
  },
  {
   "cell_type": "markdown",
   "metadata": {},
   "source": [
    "## Select best model for generate test results"
   ]
  },
  {
   "cell_type": "code",
   "execution_count": 108,
   "metadata": {},
   "outputs": [
    {
     "name": "stderr",
     "output_type": "stream",
     "text": [
      "[Parallel(n_jobs=24)]: Using backend ThreadingBackend with 24 concurrent workers.\n",
      "[Parallel(n_jobs=24)]: Done   2 tasks      | elapsed:    0.0s\n",
      "[Parallel(n_jobs=24)]: Done 100 out of 100 | elapsed:    0.2s finished\n"
     ]
    }
   ],
   "source": [
    "### PLEASE CHANGE THIS CODE TO IMPLEMENT YOUR OWN PREDICTIONS\n",
    "\n",
    "# Use our dummy classifier to make predictions on test_df using `predict_proba` method:\n",
    "# predicted_probability = dummy_clf.predict_proba(test_df.drop(['LoanID'], axis=1))[:, 1]\n",
    "predicted_probability = rfc.predict_proba(test_df.drop(['LoanID'], axis=1))[:, 1]"
   ]
  },
  {
   "cell_type": "code",
   "execution_count": 109,
   "metadata": {},
   "outputs": [],
   "source": [
    "### PLEASE CHANGE THIS CODE TO IMPLEMENT YOUR OWN PREDICTIONS\n",
    "\n",
    "# Combine predictions with label column into a dataframe\n",
    "prediction_df = pd.DataFrame({'LoanID': test_df[['LoanID']].values[:, 0],\n",
    "                             'predicted_probability': predicted_probability})"
   ]
  },
  {
   "cell_type": "code",
   "execution_count": 110,
   "metadata": {},
   "outputs": [
    {
     "name": "stdout",
     "output_type": "stream",
     "text": [
      "(109435, 2)\n"
     ]
    },
    {
     "data": {
      "text/html": [
       "<div>\n",
       "<style scoped>\n",
       "    .dataframe tbody tr th:only-of-type {\n",
       "        vertical-align: middle;\n",
       "    }\n",
       "\n",
       "    .dataframe tbody tr th {\n",
       "        vertical-align: top;\n",
       "    }\n",
       "\n",
       "    .dataframe thead th {\n",
       "        text-align: right;\n",
       "    }\n",
       "</style>\n",
       "<table border=\"1\" class=\"dataframe\">\n",
       "  <thead>\n",
       "    <tr style=\"text-align: right;\">\n",
       "      <th></th>\n",
       "      <th>LoanID</th>\n",
       "      <th>predicted_probability</th>\n",
       "    </tr>\n",
       "  </thead>\n",
       "  <tbody>\n",
       "    <tr>\n",
       "      <th>0</th>\n",
       "      <td>7RYZGMKJIR</td>\n",
       "      <td>0.12</td>\n",
       "    </tr>\n",
       "    <tr>\n",
       "      <th>1</th>\n",
       "      <td>JDL5RH07AM</td>\n",
       "      <td>0.06</td>\n",
       "    </tr>\n",
       "    <tr>\n",
       "      <th>2</th>\n",
       "      <td>STAL716Y79</td>\n",
       "      <td>0.12</td>\n",
       "    </tr>\n",
       "    <tr>\n",
       "      <th>3</th>\n",
       "      <td>SO0KKJ3IQB</td>\n",
       "      <td>0.27</td>\n",
       "    </tr>\n",
       "    <tr>\n",
       "      <th>4</th>\n",
       "      <td>T99CWTYDCP</td>\n",
       "      <td>0.30</td>\n",
       "    </tr>\n",
       "    <tr>\n",
       "      <th>5</th>\n",
       "      <td>0SNHFWV4UP</td>\n",
       "      <td>0.15</td>\n",
       "    </tr>\n",
       "    <tr>\n",
       "      <th>6</th>\n",
       "      <td>S6ITP6LGYS</td>\n",
       "      <td>0.12</td>\n",
       "    </tr>\n",
       "    <tr>\n",
       "      <th>7</th>\n",
       "      <td>A6I7U12IRJ</td>\n",
       "      <td>0.23</td>\n",
       "    </tr>\n",
       "    <tr>\n",
       "      <th>8</th>\n",
       "      <td>8W6KY50JU4</td>\n",
       "      <td>0.15</td>\n",
       "    </tr>\n",
       "    <tr>\n",
       "      <th>9</th>\n",
       "      <td>THFQ08OLMU</td>\n",
       "      <td>0.14</td>\n",
       "    </tr>\n",
       "  </tbody>\n",
       "</table>\n",
       "</div>"
      ],
      "text/plain": [
       "       LoanID  predicted_probability\n",
       "0  7RYZGMKJIR                   0.12\n",
       "1  JDL5RH07AM                   0.06\n",
       "2  STAL716Y79                   0.12\n",
       "3  SO0KKJ3IQB                   0.27\n",
       "4  T99CWTYDCP                   0.30\n",
       "5  0SNHFWV4UP                   0.15\n",
       "6  S6ITP6LGYS                   0.12\n",
       "7  A6I7U12IRJ                   0.23\n",
       "8  8W6KY50JU4                   0.15\n",
       "9  THFQ08OLMU                   0.14"
      ]
     },
     "execution_count": 110,
     "metadata": {},
     "output_type": "execute_result"
    }
   ],
   "source": [
    "### PLEASE CHANGE THIS CODE TO IMPLEMENT YOUR OWN PREDICTIONS\n",
    "\n",
    "# View our 'prediction_df' dataframe as required for submission.\n",
    "# Ensure it should contain 104,480 rows and 2 columns 'CustomerID' and 'predicted_probaility'\n",
    "print(prediction_df.shape)\n",
    "prediction_df.head(10)"
   ]
  },
  {
   "cell_type": "markdown",
   "metadata": {},
   "source": [
    "**PLEASE CHANGE CODE ABOVE TO IMPLEMENT YOUR OWN PREDICTIONS**"
   ]
  },
  {
   "cell_type": "markdown",
   "metadata": {},
   "source": [
    "## Final Tests - **IMPORTANT** - the cells below must be run prior to submission\n",
    "\n",
    "Below are some tests to ensure your submission is in the correct format for autograding. The autograding process accepts a csv `prediction_submission.csv` which we will generate from our `prediction_df` below. Please run the tests below an ensure no assertion errors are thrown."
   ]
  },
  {
   "cell_type": "code",
   "execution_count": 111,
   "metadata": {},
   "outputs": [],
   "source": [
    "# FINAL TEST CELLS - please make sure all of your code is above these test cells\n",
    "\n",
    "# Writing to csv for autograding purposes\n",
    "prediction_df.to_csv(\"prediction_submission.csv\", index=False)\n",
    "submission = pd.read_csv(\"prediction_submission.csv\")\n",
    "\n",
    "assert isinstance(submission, pd.DataFrame), 'You should have a dataframe named prediction_df.'"
   ]
  },
  {
   "cell_type": "code",
   "execution_count": 112,
   "metadata": {},
   "outputs": [],
   "source": [
    "# FINAL TEST CELLS - please make sure all of your code is above these test cells\n",
    "\n",
    "assert submission.columns[0] == 'LoanID', 'The first column name should be CustomerID.'\n",
    "assert submission.columns[1] == 'predicted_probability', 'The second column name should be predicted_probability.'"
   ]
  },
  {
   "cell_type": "code",
   "execution_count": 113,
   "metadata": {},
   "outputs": [],
   "source": [
    "# FINAL TEST CELLS - please make sure all of your code is above these test cells\n",
    "\n",
    "assert submission.shape[0] == 109435, 'The dataframe prediction_df should have 109435 rows.'"
   ]
  },
  {
   "cell_type": "code",
   "execution_count": 114,
   "metadata": {},
   "outputs": [],
   "source": [
    "# FINAL TEST CELLS - please make sure all of your code is above these test cells\n",
    "\n",
    "assert submission.shape[1] == 2, 'The dataframe prediction_df should have 2 columns.'"
   ]
  },
  {
   "cell_type": "code",
   "execution_count": 115,
   "metadata": {},
   "outputs": [],
   "source": [
    "# FINAL TEST CELLS - please make sure all of your code is above these test cells\n",
    "\n",
    "## This cell calculates the auc score and is hidden. Submit Assignment to see AUC score."
   ]
  },
  {
   "cell_type": "markdown",
   "metadata": {},
   "source": [
    "## SUBMIT YOUR WORK!\n",
    "\n",
    "Once we are happy with our `prediction_df` and `prediction_submission.csv` we can now submit for autograding! Submit by using the blue **Submit Assignment** at the top of your notebook. Don't worry if your initial submission isn't perfect as you have multiple submission attempts and will obtain some feedback after each submission!"
   ]
  }
 ],
 "metadata": {
  "kernelspec": {
   "display_name": "Python 3",
   "language": "python",
   "name": "python3"
  },
  "language_info": {
   "codemirror_mode": {
    "name": "ipython",
    "version": 3
   },
   "file_extension": ".py",
   "mimetype": "text/x-python",
   "name": "python",
   "nbconvert_exporter": "python",
   "pygments_lexer": "ipython3",
   "version": "3.10.12"
  }
 },
 "nbformat": 4,
 "nbformat_minor": 4
}
